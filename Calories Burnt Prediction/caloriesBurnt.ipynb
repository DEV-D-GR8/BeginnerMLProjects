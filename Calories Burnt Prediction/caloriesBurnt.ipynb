{
 "cells": [
  {
   "cell_type": "markdown",
   "metadata": {},
   "source": [
    "<h2> Importing Libraries </h2>"
   ]
  },
  {
   "cell_type": "code",
   "execution_count": 1,
   "metadata": {},
   "outputs": [],
   "source": [
    "import numpy as np\n",
    "import pandas as pd\n",
    "from xgboost import XGBRegressor\n",
    "from sklearn import metrics\n",
    "from sklearn.model_selection import train_test_split, RandomizedSearchCV\n",
    "from sklearn.preprocessing import StandardScaler\n",
    "import seaborn as sns\n",
    "import matplotlib.pyplot as plt\n"
   ]
  },
  {
   "cell_type": "markdown",
   "metadata": {},
   "source": [
    "<h2> Data collection and Preprocessing </h2>"
   ]
  },
  {
   "cell_type": "code",
   "execution_count": 2,
   "metadata": {},
   "outputs": [],
   "source": [
    "featureSet = pd.read_csv('exercise.csv')\n",
    "targetSet = pd.read_csv('calories.csv')"
   ]
  },
  {
   "cell_type": "code",
   "execution_count": 3,
   "metadata": {},
   "outputs": [
    {
     "data": {
      "text/plain": [
       "(15000, 8)"
      ]
     },
     "execution_count": 3,
     "metadata": {},
     "output_type": "execute_result"
    }
   ],
   "source": [
    "featureSet.shape"
   ]
  },
  {
   "cell_type": "code",
   "execution_count": 4,
   "metadata": {},
   "outputs": [
    {
     "data": {
      "text/html": [
       "<div>\n",
       "<style scoped>\n",
       "    .dataframe tbody tr th:only-of-type {\n",
       "        vertical-align: middle;\n",
       "    }\n",
       "\n",
       "    .dataframe tbody tr th {\n",
       "        vertical-align: top;\n",
       "    }\n",
       "\n",
       "    .dataframe thead th {\n",
       "        text-align: right;\n",
       "    }\n",
       "</style>\n",
       "<table border=\"1\" class=\"dataframe\">\n",
       "  <thead>\n",
       "    <tr style=\"text-align: right;\">\n",
       "      <th></th>\n",
       "      <th>User_ID</th>\n",
       "      <th>Gender</th>\n",
       "      <th>Age</th>\n",
       "      <th>Height</th>\n",
       "      <th>Weight</th>\n",
       "      <th>Duration</th>\n",
       "      <th>Heart_Rate</th>\n",
       "      <th>Body_Temp</th>\n",
       "    </tr>\n",
       "  </thead>\n",
       "  <tbody>\n",
       "    <tr>\n",
       "      <th>0</th>\n",
       "      <td>14733363</td>\n",
       "      <td>male</td>\n",
       "      <td>68</td>\n",
       "      <td>190.0</td>\n",
       "      <td>94.0</td>\n",
       "      <td>29.0</td>\n",
       "      <td>105.0</td>\n",
       "      <td>40.8</td>\n",
       "    </tr>\n",
       "    <tr>\n",
       "      <th>1</th>\n",
       "      <td>14861698</td>\n",
       "      <td>female</td>\n",
       "      <td>20</td>\n",
       "      <td>166.0</td>\n",
       "      <td>60.0</td>\n",
       "      <td>14.0</td>\n",
       "      <td>94.0</td>\n",
       "      <td>40.3</td>\n",
       "    </tr>\n",
       "    <tr>\n",
       "      <th>2</th>\n",
       "      <td>11179863</td>\n",
       "      <td>male</td>\n",
       "      <td>69</td>\n",
       "      <td>179.0</td>\n",
       "      <td>79.0</td>\n",
       "      <td>5.0</td>\n",
       "      <td>88.0</td>\n",
       "      <td>38.7</td>\n",
       "    </tr>\n",
       "    <tr>\n",
       "      <th>3</th>\n",
       "      <td>16180408</td>\n",
       "      <td>female</td>\n",
       "      <td>34</td>\n",
       "      <td>179.0</td>\n",
       "      <td>71.0</td>\n",
       "      <td>13.0</td>\n",
       "      <td>100.0</td>\n",
       "      <td>40.5</td>\n",
       "    </tr>\n",
       "    <tr>\n",
       "      <th>4</th>\n",
       "      <td>17771927</td>\n",
       "      <td>female</td>\n",
       "      <td>27</td>\n",
       "      <td>154.0</td>\n",
       "      <td>58.0</td>\n",
       "      <td>10.0</td>\n",
       "      <td>81.0</td>\n",
       "      <td>39.8</td>\n",
       "    </tr>\n",
       "  </tbody>\n",
       "</table>\n",
       "</div>"
      ],
      "text/plain": [
       "    User_ID  Gender  Age  Height  Weight  Duration  Heart_Rate  Body_Temp\n",
       "0  14733363    male   68   190.0    94.0      29.0       105.0       40.8\n",
       "1  14861698  female   20   166.0    60.0      14.0        94.0       40.3\n",
       "2  11179863    male   69   179.0    79.0       5.0        88.0       38.7\n",
       "3  16180408  female   34   179.0    71.0      13.0       100.0       40.5\n",
       "4  17771927  female   27   154.0    58.0      10.0        81.0       39.8"
      ]
     },
     "execution_count": 4,
     "metadata": {},
     "output_type": "execute_result"
    }
   ],
   "source": [
    "featureSet.head()"
   ]
  },
  {
   "cell_type": "code",
   "execution_count": 5,
   "metadata": {},
   "outputs": [
    {
     "data": {
      "text/plain": [
       "User_ID       0\n",
       "Gender        0\n",
       "Age           0\n",
       "Height        0\n",
       "Weight        0\n",
       "Duration      0\n",
       "Heart_Rate    0\n",
       "Body_Temp     0\n",
       "dtype: int64"
      ]
     },
     "execution_count": 5,
     "metadata": {},
     "output_type": "execute_result"
    }
   ],
   "source": [
    "featureSet.isnull().sum()"
   ]
  },
  {
   "cell_type": "code",
   "execution_count": 6,
   "metadata": {},
   "outputs": [
    {
     "data": {
      "text/plain": [
       "Gender\n",
       "female    7553\n",
       "male      7447\n",
       "Name: count, dtype: int64"
      ]
     },
     "execution_count": 6,
     "metadata": {},
     "output_type": "execute_result"
    }
   ],
   "source": [
    "featureSet['Gender'].value_counts()"
   ]
  },
  {
   "cell_type": "code",
   "execution_count": 7,
   "metadata": {},
   "outputs": [
    {
     "data": {
      "image/png": "[encoded data removed]",
      "text/plain": [
       "<Figure size 640x480 with 1 Axes>"
      ]
     },
     "metadata": {},
     "output_type": "display_data"
    }
   ],
   "source": [
    "calBurnt = targetSet['Calories']\n",
    "gender = featureSet['Gender']\n",
    "sns.barplot(x=gender, y=calBurnt)\n",
    "plt.xlabel('Gender')\n",
    "plt.ylabel('Calories Burnt')\n",
    "plt.title('Calories burnt by gender')\n",
    "plt.show()"
   ]
  },
  {
   "cell_type": "code",
   "execution_count": 8,
   "metadata": {},
   "outputs": [
    {
     "data": {
      "image/png": "[encoded data removed]",
      "text/plain": [
       "<Figure size 640x480 with 1 Axes>"
      ]
     },
     "metadata": {},
     "output_type": "display_data"
    }
   ],
   "source": [
    "age = featureSet['Age']\n",
    "plt.scatter(age, calBurnt)\n",
    "plt.xlabel('Age')\n",
    "plt.ylabel('Calories Burnt')\n",
    "plt.title('Age vs Calories Burnt')\n",
    "plt.show()"
   ]
  },
  {
   "cell_type": "markdown",
   "metadata": {},
   "source": [
    "<h4> Feature Engineering </h4>"
   ]
  },
  {
   "cell_type": "code",
   "execution_count": 9,
   "metadata": {},
   "outputs": [],
   "source": [
    "bmi = featureSet['Weight']/((featureSet['Height']/100)**2)\n",
    "newFeature = pd.Series(bmi, name='BMI')\n",
    "newTargetSet = pd.concat([featureSet, newFeature], axis=1)"
   ]
  },
  {
   "cell_type": "code",
   "execution_count": 10,
   "metadata": {},
   "outputs": [
    {
     "data": {
      "text/html": [
       "<div>\n",
       "<style scoped>\n",
       "    .dataframe tbody tr th:only-of-type {\n",
       "        vertical-align: middle;\n",
       "    }\n",
       "\n",
       "    .dataframe tbody tr th {\n",
       "        vertical-align: top;\n",
       "    }\n",
       "\n",
       "    .dataframe thead th {\n",
       "        text-align: right;\n",
       "    }\n",
       "</style>\n",
       "<table border=\"1\" class=\"dataframe\">\n",
       "  <thead>\n",
       "    <tr style=\"text-align: right;\">\n",
       "      <th></th>\n",
       "      <th>User_ID</th>\n",
       "      <th>Gender</th>\n",
       "      <th>Age</th>\n",
       "      <th>Height</th>\n",
       "      <th>Weight</th>\n",
       "      <th>Duration</th>\n",
       "      <th>Heart_Rate</th>\n",
       "      <th>Body_Temp</th>\n",
       "      <th>BMI</th>\n",
       "    </tr>\n",
       "  </thead>\n",
       "  <tbody>\n",
       "    <tr>\n",
       "      <th>0</th>\n",
       "      <td>14733363</td>\n",
       "      <td>male</td>\n",
       "      <td>68</td>\n",
       "      <td>190.0</td>\n",
       "      <td>94.0</td>\n",
       "      <td>29.0</td>\n",
       "      <td>105.0</td>\n",
       "      <td>40.8</td>\n",
       "      <td>26.038781</td>\n",
       "    </tr>\n",
       "    <tr>\n",
       "      <th>1</th>\n",
       "      <td>14861698</td>\n",
       "      <td>female</td>\n",
       "      <td>20</td>\n",
       "      <td>166.0</td>\n",
       "      <td>60.0</td>\n",
       "      <td>14.0</td>\n",
       "      <td>94.0</td>\n",
       "      <td>40.3</td>\n",
       "      <td>21.773842</td>\n",
       "    </tr>\n",
       "    <tr>\n",
       "      <th>2</th>\n",
       "      <td>11179863</td>\n",
       "      <td>male</td>\n",
       "      <td>69</td>\n",
       "      <td>179.0</td>\n",
       "      <td>79.0</td>\n",
       "      <td>5.0</td>\n",
       "      <td>88.0</td>\n",
       "      <td>38.7</td>\n",
       "      <td>24.655910</td>\n",
       "    </tr>\n",
       "    <tr>\n",
       "      <th>3</th>\n",
       "      <td>16180408</td>\n",
       "      <td>female</td>\n",
       "      <td>34</td>\n",
       "      <td>179.0</td>\n",
       "      <td>71.0</td>\n",
       "      <td>13.0</td>\n",
       "      <td>100.0</td>\n",
       "      <td>40.5</td>\n",
       "      <td>22.159109</td>\n",
       "    </tr>\n",
       "    <tr>\n",
       "      <th>4</th>\n",
       "      <td>17771927</td>\n",
       "      <td>female</td>\n",
       "      <td>27</td>\n",
       "      <td>154.0</td>\n",
       "      <td>58.0</td>\n",
       "      <td>10.0</td>\n",
       "      <td>81.0</td>\n",
       "      <td>39.8</td>\n",
       "      <td>24.456063</td>\n",
       "    </tr>\n",
       "  </tbody>\n",
       "</table>\n",
       "</div>"
      ],
      "text/plain": [
       "    User_ID  Gender  Age  Height  Weight  Duration  Heart_Rate  Body_Temp  \\\n",
       "0  14733363    male   68   190.0    94.0      29.0       105.0       40.8   \n",
       "1  14861698  female   20   166.0    60.0      14.0        94.0       40.3   \n",
       "2  11179863    male   69   179.0    79.0       5.0        88.0       38.7   \n",
       "3  16180408  female   34   179.0    71.0      13.0       100.0       40.5   \n",
       "4  17771927  female   27   154.0    58.0      10.0        81.0       39.8   \n",
       "\n",
       "         BMI  \n",
       "0  26.038781  \n",
       "1  21.773842  \n",
       "2  24.655910  \n",
       "3  22.159109  \n",
       "4  24.456063  "
      ]
     },
     "execution_count": 10,
     "metadata": {},
     "output_type": "execute_result"
    }
   ],
   "source": [
    "newTargetSet.head()"
   ]
  },
  {
   "cell_type": "code",
   "execution_count": 11,
   "metadata": {},
   "outputs": [
    {
     "data": {
      "image/png": "[encoded data removed]",
      "text/plain": [
       "<Figure size 640x480 with 1 Axes>"
      ]
     },
     "metadata": {},
     "output_type": "display_data"
    }
   ],
   "source": [
    "BMIn = newTargetSet['BMI']\n",
    "plt.scatter(BMIn, calBurnt)\n",
    "plt.xlabel('BMI')\n",
    "plt.ylabel('Calories Burnt')\n",
    "plt.title('BMI vs Calories Burnt')\n",
    "plt.show()"
   ]
  },
  {
   "cell_type": "markdown",
   "metadata": {},
   "source": [
    "<h4> Dropping Columns and splitting X and y </h4>"
   ]
  },
  {
   "cell_type": "code",
   "execution_count": 12,
   "metadata": {},
   "outputs": [
    {
     "name": "stdout",
     "output_type": "stream",
     "text": [
      "       Duration  Heart_Rate  Body_Temp        BMI\n",
      "0          29.0       105.0       40.8  26.038781\n",
      "1          14.0        94.0       40.3  21.773842\n",
      "2           5.0        88.0       38.7  24.655910\n",
      "3          13.0       100.0       40.5  22.159109\n",
      "4          10.0        81.0       39.8  24.456063\n",
      "...         ...         ...        ...        ...\n",
      "14995      11.0        92.0       40.4  23.087868\n",
      "14996       6.0        85.0       39.2  23.875115\n",
      "14997      16.0        90.0       40.1  22.942130\n",
      "14998       2.0        84.0       38.3  26.040968\n",
      "14999      18.0        92.0       40.5  26.395803\n",
      "\n",
      "[15000 rows x 4 columns]\n",
      "0        231.0\n",
      "1         66.0\n",
      "2         26.0\n",
      "3         71.0\n",
      "4         35.0\n",
      "         ...  \n",
      "14995     45.0\n",
      "14996     23.0\n",
      "14997     75.0\n",
      "14998     11.0\n",
      "14999     98.0\n",
      "Name: Calories, Length: 15000, dtype: float64\n"
     ]
    }
   ],
   "source": [
    "X = newTargetSet.drop(columns=['User_ID', 'Gender', 'Age', 'Height', 'Weight'], axis=1)\n",
    "y = targetSet['Calories']\n",
    "print(X)\n",
    "print(y)"
   ]
  },
  {
   "cell_type": "code",
   "execution_count": 13,
   "metadata": {},
   "outputs": [
    {
     "data": {
      "text/plain": [
       "[<matplotlib.lines.Line2D at 0x16c6de290>]"
      ]
     },
     "execution_count": 13,
     "metadata": {},
     "output_type": "execute_result"
    },
    {
     "data": {
      "image/png": "[encoded data removed]",
      "text/plain": [
       "<Figure size 640x480 with 1 Axes>"
      ]
     },
     "metadata": {},
     "output_type": "display_data"
    }
   ],
   "source": [
    "plt.plot(y)\n"
   ]
  },
  {
   "cell_type": "markdown",
   "metadata": {},
   "source": [
    "<h4> Standardistaion </h4>"
   ]
  },
  {
   "cell_type": "code",
   "execution_count": 14,
   "metadata": {},
   "outputs": [],
   "source": [
    "scalar = StandardScaler()\n",
    "scalar.fit(X)\n",
    "X = scalar.transform(X)"
   ]
  },
  {
   "cell_type": "code",
   "execution_count": 15,
   "metadata": {},
   "outputs": [
    {
     "name": "stdout",
     "output_type": "stream",
     "text": [
      "[[ 1.61912727  0.98940395  0.99402302  1.08670497]\n",
      " [-0.1839901  -0.15846102  0.3523425  -1.64945465]\n",
      " [-1.26586052 -0.78456918 -1.70103518  0.19952758]\n",
      " ...\n",
      " [ 0.05642555 -0.57586646  0.09567029 -0.89994267]\n",
      " [-1.62648399 -1.20197462 -2.21437961  1.08810763]\n",
      " [ 0.2968412  -0.36716374  0.60901471  1.31575159]]\n"
     ]
    }
   ],
   "source": [
    "print(X)"
   ]
  },
  {
   "cell_type": "markdown",
   "metadata": {},
   "source": [
    "<h4> Train Test Split </h4>"
   ]
  },
  {
   "cell_type": "code",
   "execution_count": 16,
   "metadata": {},
   "outputs": [],
   "source": [
    "Xtrain, Xtest, ytrain, ytest = train_test_split(X, y, test_size=0.2, random_state=42)"
   ]
  },
  {
   "cell_type": "code",
   "execution_count": 17,
   "metadata": {},
   "outputs": [
    {
     "name": "stdout",
     "output_type": "stream",
     "text": [
      "(15000, 4) (12000, 4) (3000, 4)\n"
     ]
    }
   ],
   "source": [
    "print(X.shape, Xtrain.shape, Xtest.shape)"
   ]
  },
  {
   "cell_type": "markdown",
   "metadata": {},
   "source": [
    "<h2> Model Training </h2>"
   ]
  },
  {
   "cell_type": "code",
   "execution_count": 18,
   "metadata": {},
   "outputs": [],
   "source": [
    "model = XGBRegressor()"
   ]
  },
  {
   "cell_type": "markdown",
   "metadata": {},
   "source": [
    "<h4> Hyperparameter Tuning </h4>"
   ]
  },
  {
   "cell_type": "code",
   "execution_count": 19,
   "metadata": {},
   "outputs": [
    {
     "name": "stdout",
     "output_type": "stream",
     "text": [
      "Fitting 10 folds for each of 10 candidates, totalling 100 fits\n"
     ]
    },
    {
     "name": "stdout",
     "output_type": "stream",
     "text": [
      "[CV 3/10] END colsample_bytree=0.4, gamma=0.5, learning_rate=0.1, max_depth=11, min_child_weight=7;, score=-157.108 total time=   0.3s\n",
      "[CV 4/10] END colsample_bytree=0.4, gamma=0.5, learning_rate=0.1, max_depth=11, min_child_weight=7;, score=-159.643 total time=   0.3s\n",
      "[CV 2/10] END colsample_bytree=0.4, gamma=0.5, learning_rate=0.1, max_depth=11, min_child_weight=7;, score=-177.354 total time=   0.3s\n",
      "[CV 1/10] END colsample_bytree=0.4, gamma=0.5, learning_rate=0.1, max_depth=11, min_child_weight=7;, score=-164.224 total time=   0.3s\n",
      "[CV 5/10] END colsample_bytree=0.4, gamma=0.5, learning_rate=0.1, max_depth=11, min_child_weight=7;, score=-195.930 total time=   0.3s\n",
      "[CV 6/10] END colsample_bytree=0.4, gamma=0.5, learning_rate=0.1, max_depth=11, min_child_weight=7;, score=-153.326 total time=   0.3s\n",
      "[CV 9/10] END colsample_bytree=0.4, gamma=0.5, learning_rate=0.1, max_depth=11, min_child_weight=7;, score=-170.391 total time=   0.3s\n",
      "[CV 8/10] END colsample_bytree=0.4, gamma=0.5, learning_rate=0.1, max_depth=11, min_child_weight=7;, score=-163.801 total time=   0.3s\n",
      "[CV 10/10] END colsample_bytree=0.4, gamma=0.5, learning_rate=0.1, max_depth=11, min_child_weight=7;, score=-178.006 total time=   0.3s\n",
      "[CV 7/10] END colsample_bytree=0.4, gamma=0.5, learning_rate=0.1, max_depth=11, min_child_weight=7;, score=-170.888 total time=   0.3s\n",
      "[CV 1/10] END colsample_bytree=0.8, gamma=0.3, learning_rate=0.1, max_depth=15, min_child_weight=13;, score=-135.354 total time=   0.8s\n",
      "[CV 3/10] END colsample_bytree=0.8, gamma=0.3, learning_rate=0.1, max_depth=15, min_child_weight=13;, score=-126.464 total time=   0.8s\n",
      "[CV 5/10] END colsample_bytree=0.8, gamma=0.3, learning_rate=0.1, max_depth=15, min_child_weight=13;, score=-158.919 total time=   0.8s\n",
      "[CV 2/10] END colsample_bytree=0.8, gamma=0.3, learning_rate=0.1, max_depth=15, min_child_weight=13;, score=-140.029 total time=   0.8s\n",
      "[CV 4/10] END colsample_bytree=0.8, gamma=0.3, learning_rate=0.1, max_depth=15, min_child_weight=13;, score=-122.280 total time=   0.8s\n",
      "[CV 7/10] END colsample_bytree=0.8, gamma=0.3, learning_rate=0.1, max_depth=15, min_child_weight=13;, score=-141.770 total time=   0.8s\n",
      "[CV 6/10] END colsample_bytree=0.8, gamma=0.3, learning_rate=0.1, max_depth=15, min_child_weight=13;, score=-135.830 total time=   0.8s\n",
      "[CV 10/10] END colsample_bytree=0.8, gamma=0.3, learning_rate=0.1, max_depth=15, min_child_weight=13;, score=-138.262 total time=   0.8s\n",
      "[CV 8/10] END colsample_bytree=0.8, gamma=0.3, learning_rate=0.1, max_depth=15, min_child_weight=13;, score=-123.831 total time=   0.8s\n",
      "[CV 9/10] END colsample_bytree=0.8, gamma=0.3, learning_rate=0.1, max_depth=15, min_child_weight=13;, score=-142.176 total time=   0.8s\n",
      "[CV 1/10] END colsample_bytree=0.7, gamma=0.2, learning_rate=0.4, max_depth=5, min_child_weight=5;, score=-133.668 total time=   0.2s\n",
      "[CV 2/10] END colsample_bytree=0.7, gamma=0.2, learning_rate=0.4, max_depth=5, min_child_weight=5;, score=-142.078 total time=   0.2s\n",
      "[CV 3/10] END colsample_bytree=0.7, gamma=0.2, learning_rate=0.4, max_depth=5, min_child_weight=5;, score=-131.409 total time=   0.2s\n",
      "[CV 4/10] END colsample_bytree=0.7, gamma=0.2, learning_rate=0.4, max_depth=5, min_child_weight=5;, score=-125.250 total time=   0.2s\n",
      "[CV 5/10] END colsample_bytree=0.7, gamma=0.2, learning_rate=0.4, max_depth=5, min_child_weight=5;, score=-156.535 total time=   0.2s\n",
      "[CV 7/10] END colsample_bytree=0.7, gamma=0.2, learning_rate=0.4, max_depth=5, min_child_weight=5;, score=-139.696 total time=   0.2s\n",
      "[CV 6/10] END colsample_bytree=0.7, gamma=0.2, learning_rate=0.4, max_depth=5, min_child_weight=5;, score=-131.138 total time=   0.2s\n",
      "[CV 8/10] END colsample_bytree=0.7, gamma=0.2, learning_rate=0.4, max_depth=5, min_child_weight=5;, score=-121.059 total time=   0.2s\n",
      "[CV 9/10] END colsample_bytree=0.7, gamma=0.2, learning_rate=0.4, max_depth=5, min_child_weight=5;, score=-139.058 total time=   0.2s\n",
      "[CV 10/10] END colsample_bytree=0.7, gamma=0.2, learning_rate=0.4, max_depth=5, min_child_weight=5;, score=-136.879 total time=   0.2s\n",
      "[CV 2/10] END colsample_bytree=0.6, gamma=0.3, learning_rate=0.15, max_depth=8, min_child_weight=13;, score=-137.576 total time=   0.3s\n",
      "[CV 1/10] END colsample_bytree=0.6, gamma=0.3, learning_rate=0.15, max_depth=8, min_child_weight=13;, score=-132.612 total time=   0.4s\n",
      "[CV 4/10] END colsample_bytree=0.6, gamma=0.3, learning_rate=0.15, max_depth=8, min_child_weight=13;, score=-122.204 total time=   0.3s\n",
      "[CV 3/10] END colsample_bytree=0.6, gamma=0.3, learning_rate=0.15, max_depth=8, min_child_weight=13;, score=-126.993 total time=   0.3s\n",
      "[CV 5/10] END colsample_bytree=0.6, gamma=0.3, learning_rate=0.15, max_depth=8, min_child_weight=13;, score=-151.855 total time=   0.3s\n",
      "[CV 7/10] END colsample_bytree=0.6, gamma=0.3, learning_rate=0.15, max_depth=8, min_child_weight=13;, score=-135.870 total time=   0.3s\n",
      "[CV 8/10] END colsample_bytree=0.6, gamma=0.3, learning_rate=0.15, max_depth=8, min_child_weight=13;, score=-122.542 total time=   0.3s\n",
      "[CV 6/10] END colsample_bytree=0.6, gamma=0.3, learning_rate=0.15, max_depth=8, min_child_weight=13;, score=-132.278 total time=   0.3s\n",
      "[CV 9/10] END colsample_bytree=0.6, gamma=0.3, learning_rate=0.15, max_depth=8, min_child_weight=13;, score=-135.393 total time=   0.3s\n",
      "[CV 10/10] END colsample_bytree=0.6, gamma=0.3, learning_rate=0.15, max_depth=8, min_child_weight=13;, score=-135.758 total time=   0.3s\n",
      "[CV 1/10] END colsample_bytree=0.6, gamma=0.0, learning_rate=0.05, max_depth=10, min_child_weight=11;, score=-133.728 total time=   0.5s\n",
      "[CV 4/10] END colsample_bytree=0.6, gamma=0.0, learning_rate=0.05, max_depth=10, min_child_weight=11;, score=-122.977 total time=   0.5s\n",
      "[CV 5/10] END colsample_bytree=0.6, gamma=0.0, learning_rate=0.05, max_depth=10, min_child_weight=11;, score=-154.968 total time=   0.5s\n",
      "[CV 7/10] END colsample_bytree=0.6, gamma=0.0, learning_rate=0.05, max_depth=10, min_child_weight=11;, score=-133.155 total time=   0.5s\n",
      "[CV 2/10] END colsample_bytree=0.6, gamma=0.0, learning_rate=0.05, max_depth=10, min_child_weight=11;, score=-140.211 total time=   0.6s\n",
      "[CV 3/10] END colsample_bytree=0.6, gamma=0.0, learning_rate=0.05, max_depth=10, min_child_weight=11;, score=-125.227 total time=   0.6s\n",
      "[CV 6/10] END colsample_bytree=0.6, gamma=0.0, learning_rate=0.05, max_depth=10, min_child_weight=11;, score=-129.999 total time=   0.6s\n",
      "[CV 8/10] END colsample_bytree=0.6, gamma=0.0, learning_rate=0.05, max_depth=10, min_child_weight=11;, score=-125.037 total time=   0.6s\n",
      "[CV 9/10] END colsample_bytree=0.6, gamma=0.0, learning_rate=0.05, max_depth=10, min_child_weight=11;, score=-135.568 total time=   0.6s\n",
      "[CV 10/10] END colsample_bytree=0.6, gamma=0.0, learning_rate=0.05, max_depth=10, min_child_weight=11;, score=-138.365 total time=   0.6s\n",
      "[CV 1/10] END colsample_bytree=0.5, gamma=0.3, learning_rate=0.1, max_depth=9, min_child_weight=13;, score=-133.124 total time=   0.4s\n",
      "[CV 2/10] END colsample_bytree=0.5, gamma=0.3, learning_rate=0.1, max_depth=9, min_child_weight=13;, score=-138.269 total time=   0.4s\n",
      "[CV 3/10] END colsample_bytree=0.5, gamma=0.3, learning_rate=0.1, max_depth=9, min_child_weight=13;, score=-125.899 total time=   0.4s\n",
      "[CV 4/10] END colsample_bytree=0.5, gamma=0.3, learning_rate=0.1, max_depth=9, min_child_weight=13;, score=-123.563 total time=   0.5s\n",
      "[CV 5/10] END colsample_bytree=0.5, gamma=0.3, learning_rate=0.1, max_depth=9, min_child_weight=13;, score=-154.011 total time=   0.4s\n",
      "[CV 6/10] END colsample_bytree=0.5, gamma=0.3, learning_rate=0.1, max_depth=9, min_child_weight=13;, score=-129.753 total time=   0.4s\n",
      "[CV 7/10] END colsample_bytree=0.5, gamma=0.3, learning_rate=0.1, max_depth=9, min_child_weight=13;, score=-130.602 total time=   0.4s\n",
      "[CV 8/10] END colsample_bytree=0.5, gamma=0.3, learning_rate=0.1, max_depth=9, min_child_weight=13;, score=-121.732 total time=   0.4s\n",
      "[CV 9/10] END colsample_bytree=0.5, gamma=0.3, learning_rate=0.1, max_depth=9, min_child_weight=13;, score=-135.159 total time=   0.4s\n",
      "[CV 10/10] END colsample_bytree=0.5, gamma=0.3, learning_rate=0.1, max_depth=9, min_child_weight=13;, score=-133.355 total time=   0.4s\n",
      "[CV 1/10] END colsample_bytree=0.8, gamma=0.4, learning_rate=0.2, max_depth=10, min_child_weight=7;, score=-135.308 total time=   0.6s\n",
      "[CV 2/10] END colsample_bytree=0.8, gamma=0.4, learning_rate=0.2, max_depth=10, min_child_weight=7;, score=-141.571 total time=   0.5s\n",
      "[CV 3/10] END colsample_bytree=0.8, gamma=0.4, learning_rate=0.2, max_depth=10, min_child_weight=7;, score=-132.832 total time=   0.5s\n",
      "[CV 5/10] END colsample_bytree=0.8, gamma=0.4, learning_rate=0.2, max_depth=10, min_child_weight=7;, score=-171.883 total time=   0.5s\n",
      "[CV 4/10] END colsample_bytree=0.8, gamma=0.4, learning_rate=0.2, max_depth=10, min_child_weight=7;, score=-128.001 total time=   0.6s\n",
      "[CV 7/10] END colsample_bytree=0.8, gamma=0.4, learning_rate=0.2, max_depth=10, min_child_weight=7;, score=-144.506 total time=   0.5s\n",
      "[CV 6/10] END colsample_bytree=0.8, gamma=0.4, learning_rate=0.2, max_depth=10, min_child_weight=7;, score=-136.530 total time=   0.6s\n",
      "[CV 8/10] END colsample_bytree=0.8, gamma=0.4, learning_rate=0.2, max_depth=10, min_child_weight=7;, score=-132.861 total time=   0.6s\n",
      "[CV 9/10] END colsample_bytree=0.8, gamma=0.4, learning_rate=0.2, max_depth=10, min_child_weight=7;, score=-142.833 total time=   0.6s\n",
      "[CV 1/10] END colsample_bytree=0.5, gamma=0.3, learning_rate=0.45, max_depth=5, min_child_weight=9;, score=-133.140 total time=   0.2s\n",
      "[CV 10/10] END colsample_bytree=0.8, gamma=0.4, learning_rate=0.2, max_depth=10, min_child_weight=7;, score=-140.457 total time=   0.6s\n",
      "[CV 3/10] END colsample_bytree=0.5, gamma=0.3, learning_rate=0.45, max_depth=5, min_child_weight=9;, score=-135.207 total time=   0.2s\n",
      "[CV 2/10] END colsample_bytree=0.5, gamma=0.3, learning_rate=0.45, max_depth=5, min_child_weight=9;, score=-143.107 total time=   0.2s\n",
      "[CV 4/10] END colsample_bytree=0.5, gamma=0.3, learning_rate=0.45, max_depth=5, min_child_weight=9;, score=-125.804 total time=   0.2s\n",
      "[CV 7/10] END colsample_bytree=0.5, gamma=0.3, learning_rate=0.45, max_depth=5, min_child_weight=9;, score=-138.314 total time=   0.2s\n",
      "[CV 6/10] END colsample_bytree=0.5, gamma=0.3, learning_rate=0.45, max_depth=5, min_child_weight=9;, score=-129.792 total time=   0.2s\n",
      "[CV 5/10] END colsample_bytree=0.5, gamma=0.3, learning_rate=0.45, max_depth=5, min_child_weight=9;, score=-157.583 total time=   0.2s\n",
      "[CV 8/10] END colsample_bytree=0.5, gamma=0.3, learning_rate=0.45, max_depth=5, min_child_weight=9;, score=-124.460 total time=   0.2s\n",
      "[CV 10/10] END colsample_bytree=0.5, gamma=0.3, learning_rate=0.45, max_depth=5, min_child_weight=9;, score=-137.611 total time=   0.2s\n",
      "[CV 9/10] END colsample_bytree=0.5, gamma=0.3, learning_rate=0.45, max_depth=5, min_child_weight=9;, score=-137.917 total time=   0.3s\n",
      "[CV 1/10] END colsample_bytree=0.7, gamma=0.0, learning_rate=0.1, max_depth=14, min_child_weight=3;, score=-142.967 total time=   0.8s\n",
      "[CV 2/10] END colsample_bytree=0.7, gamma=0.0, learning_rate=0.1, max_depth=14, min_child_weight=3;, score=-151.288 total time=   0.8s\n",
      "[CV 3/10] END colsample_bytree=0.7, gamma=0.0, learning_rate=0.1, max_depth=14, min_child_weight=3;, score=-141.676 total time=   0.8s\n",
      "[CV 6/10] END colsample_bytree=0.7, gamma=0.0, learning_rate=0.1, max_depth=14, min_child_weight=3;, score=-142.061 total time=   0.7s\n",
      "[CV 4/10] END colsample_bytree=0.7, gamma=0.0, learning_rate=0.1, max_depth=14, min_child_weight=3;, score=-137.683 total time=   0.8s\n",
      "[CV 7/10] END colsample_bytree=0.7, gamma=0.0, learning_rate=0.1, max_depth=14, min_child_weight=3;, score=-150.228 total time=   0.8s\n",
      "[CV 5/10] END colsample_bytree=0.7, gamma=0.0, learning_rate=0.1, max_depth=14, min_child_weight=3;, score=-171.706 total time=   0.8s\n",
      "[CV 8/10] END colsample_bytree=0.7, gamma=0.0, learning_rate=0.1, max_depth=14, min_child_weight=3;, score=-137.856 total time=   0.8s\n",
      "[CV 10/10] END colsample_bytree=0.7, gamma=0.0, learning_rate=0.1, max_depth=14, min_child_weight=3;, score=-143.859 total time=   0.7s\n",
      "[CV 9/10] END colsample_bytree=0.7, gamma=0.0, learning_rate=0.1, max_depth=14, min_child_weight=3;, score=-143.782 total time=   0.8s\n",
      "[CV 1/10] END colsample_bytree=0.7, gamma=0.3, learning_rate=0.05, max_depth=12, min_child_weight=9;, score=-134.733 total time=   0.6s\n",
      "[CV 3/10] END colsample_bytree=0.7, gamma=0.3, learning_rate=0.05, max_depth=12, min_child_weight=9;, score=-127.314 total time=   0.6s\n",
      "[CV 4/10] END colsample_bytree=0.7, gamma=0.3, learning_rate=0.05, max_depth=12, min_child_weight=9;, score=-123.046 total time=   0.6s\n",
      "[CV 2/10] END colsample_bytree=0.7, gamma=0.3, learning_rate=0.05, max_depth=12, min_child_weight=9;, score=-142.172 total time=   0.6s\n",
      "[CV 5/10] END colsample_bytree=0.7, gamma=0.3, learning_rate=0.05, max_depth=12, min_child_weight=9;, score=-157.807 total time=   0.6s\n",
      "[CV 6/10] END colsample_bytree=0.7, gamma=0.3, learning_rate=0.05, max_depth=12, min_child_weight=9;, score=-131.707 total time=   0.6s\n",
      "[CV 8/10] END colsample_bytree=0.7, gamma=0.3, learning_rate=0.05, max_depth=12, min_child_weight=9;, score=-126.555 total time=   0.6s\n",
      "[CV 9/10] END colsample_bytree=0.7, gamma=0.3, learning_rate=0.05, max_depth=12, min_child_weight=9;, score=-136.628 total time=   0.6s\n",
      "[CV 10/10] END colsample_bytree=0.7, gamma=0.3, learning_rate=0.05, max_depth=12, min_child_weight=9;, score=-140.795 total time=   0.6s\n",
      "[CV 7/10] END colsample_bytree=0.7, gamma=0.3, learning_rate=0.05, max_depth=12, min_child_weight=9;, score=-137.816 total time=   0.6s\n"
     ]
    },
    {
     "data": {
      "text/html": [
       "<style>#sk-container-id-1 {color: black;}#sk-container-id-1 pre{padding: 0;}#sk-container-id-1 div.sk-toggleable {background-color: white;}#sk-container-id-1 label.sk-toggleable__label {cursor: pointer;display: block;width: 100%;margin-bottom: 0;padding: 0.3em;box-sizing: border-box;text-align: center;}#sk-container-id-1 label.sk-toggleable__label-arrow:before {content: \"▸\";float: left;margin-right: 0.25em;color: #696969;}#sk-container-id-1 label.sk-toggleable__label-arrow:hover:before {color: black;}#sk-container-id-1 div.sk-estimator:hover label.sk-toggleable__label-arrow:before {color: black;}#sk-container-id-1 div.sk-toggleable__content {max-height: 0;max-width: 0;overflow: hidden;text-align: left;background-color: #f0f8ff;}#sk-container-id-1 div.sk-toggleable__content pre {margin: 0.2em;color: black;border-radius: 0.25em;background-color: #f0f8ff;}#sk-container-id-1 input.sk-toggleable__control:checked~div.sk-toggleable__content {max-height: 200px;max-width: 100%;overflow: auto;}#sk-container-id-1 input.sk-toggleable__control:checked~label.sk-toggleable__label-arrow:before {content: \"▾\";}#sk-container-id-1 div.sk-estimator input.sk-toggleable__control:checked~label.sk-toggleable__label {background-color: #d4ebff;}#sk-container-id-1 div.sk-label input.sk-toggleable__control:checked~label.sk-toggleable__label {background-color: #d4ebff;}#sk-container-id-1 input.sk-hidden--visually {border: 0;clip: rect(1px 1px 1px 1px);clip: rect(1px, 1px, 1px, 1px);height: 1px;margin: -1px;overflow: hidden;padding: 0;position: absolute;width: 1px;}#sk-container-id-1 div.sk-estimator {font-family: monospace;background-color: #f0f8ff;border: 1px dotted black;border-radius: 0.25em;box-sizing: border-box;margin-bottom: 0.5em;}#sk-container-id-1 div.sk-estimator:hover {background-color: #d4ebff;}#sk-container-id-1 div.sk-parallel-item::after {content: \"\";width: 100%;border-bottom: 1px solid gray;flex-grow: 1;}#sk-container-id-1 div.sk-label:hover label.sk-toggleable__label {background-color: #d4ebff;}#sk-container-id-1 div.sk-serial::before {content: \"\";position: absolute;border-left: 1px solid gray;box-sizing: border-box;top: 0;bottom: 0;left: 50%;z-index: 0;}#sk-container-id-1 div.sk-serial {display: flex;flex-direction: column;align-items: center;background-color: white;padding-right: 0.2em;padding-left: 0.2em;position: relative;}#sk-container-id-1 div.sk-item {position: relative;z-index: 1;}#sk-container-id-1 div.sk-parallel {display: flex;align-items: stretch;justify-content: center;background-color: white;position: relative;}#sk-container-id-1 div.sk-item::before, #sk-container-id-1 div.sk-parallel-item::before {content: \"\";position: absolute;border-left: 1px solid gray;box-sizing: border-box;top: 0;bottom: 0;left: 50%;z-index: -1;}#sk-container-id-1 div.sk-parallel-item {display: flex;flex-direction: column;z-index: 1;position: relative;background-color: white;}#sk-container-id-1 div.sk-parallel-item:first-child::after {align-self: flex-end;width: 50%;}#sk-container-id-1 div.sk-parallel-item:last-child::after {align-self: flex-start;width: 50%;}#sk-container-id-1 div.sk-parallel-item:only-child::after {width: 0;}#sk-container-id-1 div.sk-dashed-wrapped {border: 1px dashed gray;margin: 0 0.4em 0.5em 0.4em;box-sizing: border-box;padding-bottom: 0.4em;background-color: white;}#sk-container-id-1 div.sk-label label {font-family: monospace;font-weight: bold;display: inline-block;line-height: 1.2em;}#sk-container-id-1 div.sk-label-container {text-align: center;}#sk-container-id-1 div.sk-container {/* jupyter's `normalize.less` sets `[hidden] { display: none; }` but bootstrap.min.css set `[hidden] { display: none !important; }` so we also need the `!important` here to be able to override the default hidden behavior on the sphinx rendered scikit-learn.org. See: https://github.com/scikit-learn/scikit-learn/issues/21755 */display: inline-block !important;position: relative;}#sk-container-id-1 div.sk-text-repr-fallback {display: none;}</style><div id=\"sk-container-id-1\" class=\"sk-top-container\"><div class=\"sk-text-repr-fallback\"><pre>RandomizedSearchCV(cv=10,\n",
       "                   estimator=XGBRegressor(base_score=None, booster=None,\n",
       "                                          callbacks=None,\n",
       "                                          colsample_bylevel=None,\n",
       "                                          colsample_bynode=None,\n",
       "                                          colsample_bytree=None,\n",
       "                                          early_stopping_rounds=None,\n",
       "                                          enable_categorical=False,\n",
       "                                          eval_metric=None, feature_types=None,\n",
       "                                          gamma=None, gpu_id=None,\n",
       "                                          grow_policy=None,\n",
       "                                          importance_type=None,\n",
       "                                          interaction_constraints=None,\n",
       "                                          learning_rate...\n",
       "                                          num_parallel_tree=None,\n",
       "                                          predictor=None, random_state=None, ...),\n",
       "                   n_jobs=-1,\n",
       "                   param_distributions={&#x27;colsample_bytree&#x27;: [0.3, 0.4, 0.5, 0.6,\n",
       "                                                             0.7, 0.8],\n",
       "                                        &#x27;gamma&#x27;: [0.0, 0.1, 0.2, 0.3, 0.4, 0.5],\n",
       "                                        &#x27;learning_rate&#x27;: [0.05, 0.1, 0.15, 0.2,\n",
       "                                                          0.25, 0.3, 0.35, 0.4,\n",
       "                                                          0.45, 0.5],\n",
       "                                        &#x27;max_depth&#x27;: [3, 4, 5, 6, 7, 8, 9, 10,\n",
       "                                                      11, 12, 13, 14, 15],\n",
       "                                        &#x27;min_child_weight&#x27;: [1, 3, 5, 7, 9, 11,\n",
       "                                                             13]},\n",
       "                   scoring=&#x27;neg_mean_squared_error&#x27;, verbose=3)</pre><b>In a Jupyter environment, please rerun this cell to show the HTML representation or trust the notebook. <br />On GitHub, the HTML representation is unable to render, please try loading this page with nbviewer.org.</b></div><div class=\"sk-container\" hidden><div class=\"sk-item sk-dashed-wrapped\"><div class=\"sk-label-container\"><div class=\"sk-label sk-toggleable\"><input class=\"sk-toggleable__control sk-hidden--visually\" id=\"sk-estimator-id-1\" type=\"checkbox\" ><label for=\"sk-estimator-id-1\" class=\"sk-toggleable__label sk-toggleable__label-arrow\">RandomizedSearchCV</label><div class=\"sk-toggleable__content\"><pre>RandomizedSearchCV(cv=10,\n",
       "                   estimator=XGBRegressor(base_score=None, booster=None,\n",
       "                                          callbacks=None,\n",
       "                                          colsample_bylevel=None,\n",
       "                                          colsample_bynode=None,\n",
       "                                          colsample_bytree=None,\n",
       "                                          early_stopping_rounds=None,\n",
       "                                          enable_categorical=False,\n",
       "                                          eval_metric=None, feature_types=None,\n",
       "                                          gamma=None, gpu_id=None,\n",
       "                                          grow_policy=None,\n",
       "                                          importance_type=None,\n",
       "                                          interaction_constraints=None,\n",
       "                                          learning_rate...\n",
       "                                          num_parallel_tree=None,\n",
       "                                          predictor=None, random_state=None, ...),\n",
       "                   n_jobs=-1,\n",
       "                   param_distributions={&#x27;colsample_bytree&#x27;: [0.3, 0.4, 0.5, 0.6,\n",
       "                                                             0.7, 0.8],\n",
       "                                        &#x27;gamma&#x27;: [0.0, 0.1, 0.2, 0.3, 0.4, 0.5],\n",
       "                                        &#x27;learning_rate&#x27;: [0.05, 0.1, 0.15, 0.2,\n",
       "                                                          0.25, 0.3, 0.35, 0.4,\n",
       "                                                          0.45, 0.5],\n",
       "                                        &#x27;max_depth&#x27;: [3, 4, 5, 6, 7, 8, 9, 10,\n",
       "                                                      11, 12, 13, 14, 15],\n",
       "                                        &#x27;min_child_weight&#x27;: [1, 3, 5, 7, 9, 11,\n",
       "                                                             13]},\n",
       "                   scoring=&#x27;neg_mean_squared_error&#x27;, verbose=3)</pre></div></div></div><div class=\"sk-parallel\"><div class=\"sk-parallel-item\"><div class=\"sk-item\"><div class=\"sk-label-container\"><div class=\"sk-label sk-toggleable\"><input class=\"sk-toggleable__control sk-hidden--visually\" id=\"sk-estimator-id-2\" type=\"checkbox\" ><label for=\"sk-estimator-id-2\" class=\"sk-toggleable__label sk-toggleable__label-arrow\">estimator: XGBRegressor</label><div class=\"sk-toggleable__content\"><pre>XGBRegressor(base_score=None, booster=None, callbacks=None,\n",
       "             colsample_bylevel=None, colsample_bynode=None,\n",
       "             colsample_bytree=None, early_stopping_rounds=None,\n",
       "             enable_categorical=False, eval_metric=None, feature_types=None,\n",
       "             gamma=None, gpu_id=None, grow_policy=None, importance_type=None,\n",
       "             interaction_constraints=None, learning_rate=None, max_bin=None,\n",
       "             max_cat_threshold=None, max_cat_to_onehot=None,\n",
       "             max_delta_step=None, max_depth=None, max_leaves=None,\n",
       "             min_child_weight=None, missing=nan, monotone_constraints=None,\n",
       "             n_estimators=100, n_jobs=None, num_parallel_tree=None,\n",
       "             predictor=None, random_state=None, ...)</pre></div></div></div><div class=\"sk-serial\"><div class=\"sk-item\"><div class=\"sk-estimator sk-toggleable\"><input class=\"sk-toggleable__control sk-hidden--visually\" id=\"sk-estimator-id-3\" type=\"checkbox\" ><label for=\"sk-estimator-id-3\" class=\"sk-toggleable__label sk-toggleable__label-arrow\">XGBRegressor</label><div class=\"sk-toggleable__content\"><pre>XGBRegressor(base_score=None, booster=None, callbacks=None,\n",
       "             colsample_bylevel=None, colsample_bynode=None,\n",
       "             colsample_bytree=None, early_stopping_rounds=None,\n",
       "             enable_categorical=False, eval_metric=None, feature_types=None,\n",
       "             gamma=None, gpu_id=None, grow_policy=None, importance_type=None,\n",
       "             interaction_constraints=None, learning_rate=None, max_bin=None,\n",
       "             max_cat_threshold=None, max_cat_to_onehot=None,\n",
       "             max_delta_step=None, max_depth=None, max_leaves=None,\n",
       "             min_child_weight=None, missing=nan, monotone_constraints=None,\n",
       "             n_estimators=100, n_jobs=None, num_parallel_tree=None,\n",
       "             predictor=None, random_state=None, ...)</pre></div></div></div></div></div></div></div></div></div></div>"
      ],
      "text/plain": [
       "RandomizedSearchCV(cv=10,\n",
       "                   estimator=XGBRegressor(base_score=None, booster=None,\n",
       "                                          callbacks=None,\n",
       "                                          colsample_bylevel=None,\n",
       "                                          colsample_bynode=None,\n",
       "                                          colsample_bytree=None,\n",
       "                                          early_stopping_rounds=None,\n",
       "                                          enable_categorical=False,\n",
       "                                          eval_metric=None, feature_types=None,\n",
       "                                          gamma=None, gpu_id=None,\n",
       "                                          grow_policy=None,\n",
       "                                          importance_type=None,\n",
       "                                          interaction_constraints=None,\n",
       "                                          learning_rate...\n",
       "                                          num_parallel_tree=None,\n",
       "                                          predictor=None, random_state=None, ...),\n",
       "                   n_jobs=-1,\n",
       "                   param_distributions={'colsample_bytree': [0.3, 0.4, 0.5, 0.6,\n",
       "                                                             0.7, 0.8],\n",
       "                                        'gamma': [0.0, 0.1, 0.2, 0.3, 0.4, 0.5],\n",
       "                                        'learning_rate': [0.05, 0.1, 0.15, 0.2,\n",
       "                                                          0.25, 0.3, 0.35, 0.4,\n",
       "                                                          0.45, 0.5],\n",
       "                                        'max_depth': [3, 4, 5, 6, 7, 8, 9, 10,\n",
       "                                                      11, 12, 13, 14, 15],\n",
       "                                        'min_child_weight': [1, 3, 5, 7, 9, 11,\n",
       "                                                             13]},\n",
       "                   scoring='neg_mean_squared_error', verbose=3)"
      ]
     },
     "execution_count": 19,
     "metadata": {},
     "output_type": "execute_result"
    }
   ],
   "source": [
    "params = {\n",
    "    \"learning_rate\" : [0.05, 0.10, 0.15, 0.20, 0.25, 0.30, 0.35, 0.4, 0.45, 0.5],\n",
    "    \"max_depth\" : [3, 4, 5, 6, 7, 8, 9, 10, 11, 12, 13, 14, 15],\n",
    "    \"min_child_weight\" : [1, 3, 5, 7, 9, 11, 13],\n",
    "    \"gamma\" : [0.0, 0.1, 0.2, 0.3, 0.4, 0.5],\n",
    "    \"colsample_bytree\" : [0.3, 0.4, 0.5, 0.6, 0.7, 0.8]\n",
    "}\n",
    "\n",
    "randomSearch = RandomizedSearchCV(model, param_distributions=params, n_iter=10, scoring='neg_mean_squared_error', n_jobs=-1, cv=10, verbose=3)\n",
    "\n",
    "randomSearch.fit(Xtrain, ytrain)"
   ]
  },
  {
   "cell_type": "code",
   "execution_count": 20,
   "metadata": {},
   "outputs": [
    {
     "data": {
      "text/html": [
       "<style>#sk-container-id-2 {color: black;}#sk-container-id-2 pre{padding: 0;}#sk-container-id-2 div.sk-toggleable {background-color: white;}#sk-container-id-2 label.sk-toggleable__label {cursor: pointer;display: block;width: 100%;margin-bottom: 0;padding: 0.3em;box-sizing: border-box;text-align: center;}#sk-container-id-2 label.sk-toggleable__label-arrow:before {content: \"▸\";float: left;margin-right: 0.25em;color: #696969;}#sk-container-id-2 label.sk-toggleable__label-arrow:hover:before {color: black;}#sk-container-id-2 div.sk-estimator:hover label.sk-toggleable__label-arrow:before {color: black;}#sk-container-id-2 div.sk-toggleable__content {max-height: 0;max-width: 0;overflow: hidden;text-align: left;background-color: #f0f8ff;}#sk-container-id-2 div.sk-toggleable__content pre {margin: 0.2em;color: black;border-radius: 0.25em;background-color: #f0f8ff;}#sk-container-id-2 input.sk-toggleable__control:checked~div.sk-toggleable__content {max-height: 200px;max-width: 100%;overflow: auto;}#sk-container-id-2 input.sk-toggleable__control:checked~label.sk-toggleable__label-arrow:before {content: \"▾\";}#sk-container-id-2 div.sk-estimator input.sk-toggleable__control:checked~label.sk-toggleable__label {background-color: #d4ebff;}#sk-container-id-2 div.sk-label input.sk-toggleable__control:checked~label.sk-toggleable__label {background-color: #d4ebff;}#sk-container-id-2 input.sk-hidden--visually {border: 0;clip: rect(1px 1px 1px 1px);clip: rect(1px, 1px, 1px, 1px);height: 1px;margin: -1px;overflow: hidden;padding: 0;position: absolute;width: 1px;}#sk-container-id-2 div.sk-estimator {font-family: monospace;background-color: #f0f8ff;border: 1px dotted black;border-radius: 0.25em;box-sizing: border-box;margin-bottom: 0.5em;}#sk-container-id-2 div.sk-estimator:hover {background-color: #d4ebff;}#sk-container-id-2 div.sk-parallel-item::after {content: \"\";width: 100%;border-bottom: 1px solid gray;flex-grow: 1;}#sk-container-id-2 div.sk-label:hover label.sk-toggleable__label {background-color: #d4ebff;}#sk-container-id-2 div.sk-serial::before {content: \"\";position: absolute;border-left: 1px solid gray;box-sizing: border-box;top: 0;bottom: 0;left: 50%;z-index: 0;}#sk-container-id-2 div.sk-serial {display: flex;flex-direction: column;align-items: center;background-color: white;padding-right: 0.2em;padding-left: 0.2em;position: relative;}#sk-container-id-2 div.sk-item {position: relative;z-index: 1;}#sk-container-id-2 div.sk-parallel {display: flex;align-items: stretch;justify-content: center;background-color: white;position: relative;}#sk-container-id-2 div.sk-item::before, #sk-container-id-2 div.sk-parallel-item::before {content: \"\";position: absolute;border-left: 1px solid gray;box-sizing: border-box;top: 0;bottom: 0;left: 50%;z-index: -1;}#sk-container-id-2 div.sk-parallel-item {display: flex;flex-direction: column;z-index: 1;position: relative;background-color: white;}#sk-container-id-2 div.sk-parallel-item:first-child::after {align-self: flex-end;width: 50%;}#sk-container-id-2 div.sk-parallel-item:last-child::after {align-self: flex-start;width: 50%;}#sk-container-id-2 div.sk-parallel-item:only-child::after {width: 0;}#sk-container-id-2 div.sk-dashed-wrapped {border: 1px dashed gray;margin: 0 0.4em 0.5em 0.4em;box-sizing: border-box;padding-bottom: 0.4em;background-color: white;}#sk-container-id-2 div.sk-label label {font-family: monospace;font-weight: bold;display: inline-block;line-height: 1.2em;}#sk-container-id-2 div.sk-label-container {text-align: center;}#sk-container-id-2 div.sk-container {/* jupyter's `normalize.less` sets `[hidden] { display: none; }` but bootstrap.min.css set `[hidden] { display: none !important; }` so we also need the `!important` here to be able to override the default hidden behavior on the sphinx rendered scikit-learn.org. See: https://github.com/scikit-learn/scikit-learn/issues/21755 */display: inline-block !important;position: relative;}#sk-container-id-2 div.sk-text-repr-fallback {display: none;}</style><div id=\"sk-container-id-2\" class=\"sk-top-container\"><div class=\"sk-text-repr-fallback\"><pre>XGBRegressor(base_score=None, booster=None, callbacks=None,\n",
       "             colsample_bylevel=None, colsample_bynode=None,\n",
       "             colsample_bytree=0.5, early_stopping_rounds=None,\n",
       "             enable_categorical=False, eval_metric=None, feature_types=None,\n",
       "             gamma=0.3, gpu_id=None, grow_policy=None, importance_type=None,\n",
       "             interaction_constraints=None, learning_rate=0.1, max_bin=None,\n",
       "             max_cat_threshold=None, max_cat_to_onehot=None,\n",
       "             max_delta_step=None, max_depth=9, max_leaves=None,\n",
       "             min_child_weight=13, missing=nan, monotone_constraints=None,\n",
       "             n_estimators=100, n_jobs=None, num_parallel_tree=None,\n",
       "             predictor=None, random_state=None, ...)</pre><b>In a Jupyter environment, please rerun this cell to show the HTML representation or trust the notebook. <br />On GitHub, the HTML representation is unable to render, please try loading this page with nbviewer.org.</b></div><div class=\"sk-container\" hidden><div class=\"sk-item\"><div class=\"sk-estimator sk-toggleable\"><input class=\"sk-toggleable__control sk-hidden--visually\" id=\"sk-estimator-id-4\" type=\"checkbox\" checked><label for=\"sk-estimator-id-4\" class=\"sk-toggleable__label sk-toggleable__label-arrow\">XGBRegressor</label><div class=\"sk-toggleable__content\"><pre>XGBRegressor(base_score=None, booster=None, callbacks=None,\n",
       "             colsample_bylevel=None, colsample_bynode=None,\n",
       "             colsample_bytree=0.5, early_stopping_rounds=None,\n",
       "             enable_categorical=False, eval_metric=None, feature_types=None,\n",
       "             gamma=0.3, gpu_id=None, grow_policy=None, importance_type=None,\n",
       "             interaction_constraints=None, learning_rate=0.1, max_bin=None,\n",
       "             max_cat_threshold=None, max_cat_to_onehot=None,\n",
       "             max_delta_step=None, max_depth=9, max_leaves=None,\n",
       "             min_child_weight=13, missing=nan, monotone_constraints=None,\n",
       "             n_estimators=100, n_jobs=None, num_parallel_tree=None,\n",
       "             predictor=None, random_state=None, ...)</pre></div></div></div></div></div>"
      ],
      "text/plain": [
       "XGBRegressor(base_score=None, booster=None, callbacks=None,\n",
       "             colsample_bylevel=None, colsample_bynode=None,\n",
       "             colsample_bytree=0.5, early_stopping_rounds=None,\n",
       "             enable_categorical=False, eval_metric=None, feature_types=None,\n",
       "             gamma=0.3, gpu_id=None, grow_policy=None, importance_type=None,\n",
       "             interaction_constraints=None, learning_rate=0.1, max_bin=None,\n",
       "             max_cat_threshold=None, max_cat_to_onehot=None,\n",
       "             max_delta_step=None, max_depth=9, max_leaves=None,\n",
       "             min_child_weight=13, missing=nan, monotone_constraints=None,\n",
       "             n_estimators=100, n_jobs=None, num_parallel_tree=None,\n",
       "             predictor=None, random_state=None, ...)"
      ]
     },
     "execution_count": 20,
     "metadata": {},
     "output_type": "execute_result"
    }
   ],
   "source": [
    "randomSearch.best_estimator_"
   ]
  },
  {
   "cell_type": "code",
   "execution_count": 21,
   "metadata": {},
   "outputs": [
    {
     "data": {
      "text/plain": [
       "{'min_child_weight': 13,\n",
       " 'max_depth': 9,\n",
       " 'learning_rate': 0.1,\n",
       " 'gamma': 0.3,\n",
       " 'colsample_bytree': 0.5}"
      ]
     },
     "execution_count": 21,
     "metadata": {},
     "output_type": "execute_result"
    }
   ],
   "source": [
    "randomSearch.best_params_"
   ]
  },
  {
   "cell_type": "code",
   "execution_count": 29,
   "metadata": {},
   "outputs": [],
   "source": [
    "model = XGBRegressor(colsample_bytree=0.5, gamma=0.1, learning_rate=0.1, max_depth=9, min_child_weight=13, n_estimators=100)"
   ]
  },
  {
   "cell_type": "code",
   "execution_count": 30,
   "metadata": {},
   "outputs": [
    {
     "data": {
      "text/html": [
       "<style>#sk-container-id-4 {color: black;}#sk-container-id-4 pre{padding: 0;}#sk-container-id-4 div.sk-toggleable {background-color: white;}#sk-container-id-4 label.sk-toggleable__label {cursor: pointer;display: block;width: 100%;margin-bottom: 0;padding: 0.3em;box-sizing: border-box;text-align: center;}#sk-container-id-4 label.sk-toggleable__label-arrow:before {content: \"▸\";float: left;margin-right: 0.25em;color: #696969;}#sk-container-id-4 label.sk-toggleable__label-arrow:hover:before {color: black;}#sk-container-id-4 div.sk-estimator:hover label.sk-toggleable__label-arrow:before {color: black;}#sk-container-id-4 div.sk-toggleable__content {max-height: 0;max-width: 0;overflow: hidden;text-align: left;background-color: #f0f8ff;}#sk-container-id-4 div.sk-toggleable__content pre {margin: 0.2em;color: black;border-radius: 0.25em;background-color: #f0f8ff;}#sk-container-id-4 input.sk-toggleable__control:checked~div.sk-toggleable__content {max-height: 200px;max-width: 100%;overflow: auto;}#sk-container-id-4 input.sk-toggleable__control:checked~label.sk-toggleable__label-arrow:before {content: \"▾\";}#sk-container-id-4 div.sk-estimator input.sk-toggleable__control:checked~label.sk-toggleable__label {background-color: #d4ebff;}#sk-container-id-4 div.sk-label input.sk-toggleable__control:checked~label.sk-toggleable__label {background-color: #d4ebff;}#sk-container-id-4 input.sk-hidden--visually {border: 0;clip: rect(1px 1px 1px 1px);clip: rect(1px, 1px, 1px, 1px);height: 1px;margin: -1px;overflow: hidden;padding: 0;position: absolute;width: 1px;}#sk-container-id-4 div.sk-estimator {font-family: monospace;background-color: #f0f8ff;border: 1px dotted black;border-radius: 0.25em;box-sizing: border-box;margin-bottom: 0.5em;}#sk-container-id-4 div.sk-estimator:hover {background-color: #d4ebff;}#sk-container-id-4 div.sk-parallel-item::after {content: \"\";width: 100%;border-bottom: 1px solid gray;flex-grow: 1;}#sk-container-id-4 div.sk-label:hover label.sk-toggleable__label {background-color: #d4ebff;}#sk-container-id-4 div.sk-serial::before {content: \"\";position: absolute;border-left: 1px solid gray;box-sizing: border-box;top: 0;bottom: 0;left: 50%;z-index: 0;}#sk-container-id-4 div.sk-serial {display: flex;flex-direction: column;align-items: center;background-color: white;padding-right: 0.2em;padding-left: 0.2em;position: relative;}#sk-container-id-4 div.sk-item {position: relative;z-index: 1;}#sk-container-id-4 div.sk-parallel {display: flex;align-items: stretch;justify-content: center;background-color: white;position: relative;}#sk-container-id-4 div.sk-item::before, #sk-container-id-4 div.sk-parallel-item::before {content: \"\";position: absolute;border-left: 1px solid gray;box-sizing: border-box;top: 0;bottom: 0;left: 50%;z-index: -1;}#sk-container-id-4 div.sk-parallel-item {display: flex;flex-direction: column;z-index: 1;position: relative;background-color: white;}#sk-container-id-4 div.sk-parallel-item:first-child::after {align-self: flex-end;width: 50%;}#sk-container-id-4 div.sk-parallel-item:last-child::after {align-self: flex-start;width: 50%;}#sk-container-id-4 div.sk-parallel-item:only-child::after {width: 0;}#sk-container-id-4 div.sk-dashed-wrapped {border: 1px dashed gray;margin: 0 0.4em 0.5em 0.4em;box-sizing: border-box;padding-bottom: 0.4em;background-color: white;}#sk-container-id-4 div.sk-label label {font-family: monospace;font-weight: bold;display: inline-block;line-height: 1.2em;}#sk-container-id-4 div.sk-label-container {text-align: center;}#sk-container-id-4 div.sk-container {/* jupyter's `normalize.less` sets `[hidden] { display: none; }` but bootstrap.min.css set `[hidden] { display: none !important; }` so we also need the `!important` here to be able to override the default hidden behavior on the sphinx rendered scikit-learn.org. See: https://github.com/scikit-learn/scikit-learn/issues/21755 */display: inline-block !important;position: relative;}#sk-container-id-4 div.sk-text-repr-fallback {display: none;}</style><div id=\"sk-container-id-4\" class=\"sk-top-container\"><div class=\"sk-text-repr-fallback\"><pre>XGBRegressor(base_score=None, booster=None, callbacks=None,\n",
       "             colsample_bylevel=None, colsample_bynode=None,\n",
       "             colsample_bytree=0.5, early_stopping_rounds=None,\n",
       "             enable_categorical=False, eval_metric=None, feature_types=None,\n",
       "             gamma=0.1, gpu_id=None, grow_policy=None, importance_type=None,\n",
       "             interaction_constraints=None, learning_rate=0.1, max_bin=None,\n",
       "             max_cat_threshold=None, max_cat_to_onehot=None,\n",
       "             max_delta_step=None, max_depth=9, max_leaves=None,\n",
       "             min_child_weight=13, missing=nan, monotone_constraints=None,\n",
       "             n_estimators=100, n_jobs=None, num_parallel_tree=None,\n",
       "             predictor=None, random_state=None, ...)</pre><b>In a Jupyter environment, please rerun this cell to show the HTML representation or trust the notebook. <br />On GitHub, the HTML representation is unable to render, please try loading this page with nbviewer.org.</b></div><div class=\"sk-container\" hidden><div class=\"sk-item\"><div class=\"sk-estimator sk-toggleable\"><input class=\"sk-toggleable__control sk-hidden--visually\" id=\"sk-estimator-id-6\" type=\"checkbox\" checked><label for=\"sk-estimator-id-6\" class=\"sk-toggleable__label sk-toggleable__label-arrow\">XGBRegressor</label><div class=\"sk-toggleable__content\"><pre>XGBRegressor(base_score=None, booster=None, callbacks=None,\n",
       "             colsample_bylevel=None, colsample_bynode=None,\n",
       "             colsample_bytree=0.5, early_stopping_rounds=None,\n",
       "             enable_categorical=False, eval_metric=None, feature_types=None,\n",
       "             gamma=0.1, gpu_id=None, grow_policy=None, importance_type=None,\n",
       "             interaction_constraints=None, learning_rate=0.1, max_bin=None,\n",
       "             max_cat_threshold=None, max_cat_to_onehot=None,\n",
       "             max_delta_step=None, max_depth=9, max_leaves=None,\n",
       "             min_child_weight=13, missing=nan, monotone_constraints=None,\n",
       "             n_estimators=100, n_jobs=None, num_parallel_tree=None,\n",
       "             predictor=None, random_state=None, ...)</pre></div></div></div></div></div>"
      ],
      "text/plain": [
       "XGBRegressor(base_score=None, booster=None, callbacks=None,\n",
       "             colsample_bylevel=None, colsample_bynode=None,\n",
       "             colsample_bytree=0.5, early_stopping_rounds=None,\n",
       "             enable_categorical=False, eval_metric=None, feature_types=None,\n",
       "             gamma=0.1, gpu_id=None, grow_policy=None, importance_type=None,\n",
       "             interaction_constraints=None, learning_rate=0.1, max_bin=None,\n",
       "             max_cat_threshold=None, max_cat_to_onehot=None,\n",
       "             max_delta_step=None, max_depth=9, max_leaves=None,\n",
       "             min_child_weight=13, missing=nan, monotone_constraints=None,\n",
       "             n_estimators=100, n_jobs=None, num_parallel_tree=None,\n",
       "             predictor=None, random_state=None, ...)"
      ]
     },
     "execution_count": 30,
     "metadata": {},
     "output_type": "execute_result"
    }
   ],
   "source": [
    "model.fit(Xtrain, ytrain)"
   ]
  },
  {
   "cell_type": "markdown",
   "metadata": {},
   "source": [
    "<h2> Model Evaluation </h2>"
   ]
  },
  {
   "cell_type": "markdown",
   "metadata": {},
   "source": [
    "<h4> Training Set </h4> "
   ]
  },
  {
   "cell_type": "code",
   "execution_count": 31,
   "metadata": {},
   "outputs": [],
   "source": [
    "trainPrediction = model.predict(Xtrain)"
   ]
  },
  {
   "cell_type": "code",
   "execution_count": 32,
   "metadata": {},
   "outputs": [
    {
     "name": "stdout",
     "output_type": "stream",
     "text": [
      "Train MSE:  89.67899069011753\n",
      "Train MAE:  6.612401399264733\n",
      "Train R2 Score:  0.9768021589193033\n"
     ]
    }
   ],
   "source": [
    "trainMSE = metrics.mean_squared_error(ytrain, trainPrediction)\n",
    "print(\"Train MSE: \", trainMSE)\n",
    "trainMAE = metrics.mean_absolute_error(ytrain, trainPrediction)\n",
    "print(\"Train MAE: \", trainMAE)\n",
    "trainRscore = metrics.r2_score(ytrain, trainPrediction)\n",
    "print(\"Train R2 Score: \", trainRscore)"
   ]
  },
  {
   "cell_type": "markdown",
   "metadata": {},
   "source": [
    "<h4> Test Set </h4>"
   ]
  },
  {
   "cell_type": "code",
   "execution_count": 33,
   "metadata": {},
   "outputs": [
    {
     "name": "stdout",
     "output_type": "stream",
     "text": [
      "Test MSE:  131.515177159168\n",
      "Test MAE:  7.915620432694753\n",
      "Test R2 Score:  0.9674127917911985\n"
     ]
    }
   ],
   "source": [
    "testPrediction = model.predict(Xtest)\n",
    "testMSE = metrics.mean_squared_error(ytest, testPrediction)\n",
    "print(\"Test MSE: \", testMSE)\n",
    "testMAE = metrics.mean_absolute_error(ytest, testPrediction)\n",
    "print(\"Test MAE: \", testMAE)\n",
    "testRscore = metrics.r2_score(ytest, testPrediction)\n",
    "print(\"Test R2 Score: \", testRscore)"
   ]
  },
  {
   "cell_type": "markdown",
   "metadata": {},
   "source": [
    "<h2> Predictions </h2>"
   ]
  },
  {
   "cell_type": "code",
   "execution_count": 34,
   "metadata": {},
   "outputs": [
    {
     "name": "stdout",
     "output_type": "stream",
     "text": [
      "Calories burnt:  [23.642744]\n"
     ]
    },
    {
     "name": "stderr",
     "output_type": "stream",
     "text": [
      "/opt/homebrew/lib/python3.11/site-packages/sklearn/base.py:464: UserWarning: X does not have valid feature names, but StandardScaler was fitted with feature names\n",
      "  warnings.warn(\n"
     ]
    }
   ],
   "source": [
    "input = (197.0,102.0,8.0,75.0,39.6) #removed gender userID and age\n",
    "npInput = np.asarray(input)\n",
    "ibmi = npInput[1]/((npInput[0]/100)**2)\n",
    "npInput = np.delete(npInput, [0,1])\n",
    "npInput = np.append(npInput, ibmi)\n",
    "stdInput = scalar.transform(np.reshape(npInput, (1, -1)))\n",
    "\n",
    "p = model.predict(stdInput)\n",
    "\n",
    "print(\"Calories burnt: \", p)"
   ]
  }
 ],
 "metadata": {
  "kernelspec": {
   "display_name": "Python 3",
   "language": "python",
   "name": "python3"
  },
  "language_info": {
   "codemirror_mode": {
    "name": "ipython",
    "version": 3
   },
   "file_extension": ".py",
   "mimetype": "text/x-python",
   "name": "python",
   "nbconvert_exporter": "python",
   "pygments_lexer": "ipython3",
   "version": "3.11.4"
  },
  "orig_nbformat": 4
 },
 "nbformat": 4,
 "nbformat_minor": 2
}
