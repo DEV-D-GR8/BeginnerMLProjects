{
 "cells": [
  {
   "cell_type": "markdown",
   "metadata": {},
   "source": [
    "<h2> Importing Libraries </h2>"
   ]
  },
  {
   "cell_type": "markdown",
   "metadata": {},
   "source": [
    "<h4> Note: Unzip the dataset file before use </h4>"
   ]
  },
  {
   "cell_type": "code",
   "execution_count": 1,
   "metadata": {},
   "outputs": [],
   "source": [
    "import numpy as np\n",
    "import pandas as pd\n",
    "from xgboost import XGBClassifier\n",
    "from sklearn import metrics\n",
    "from sklearn.model_selection import train_test_split, RandomizedSearchCV\n",
    "from sklearn.preprocessing import StandardScaler\n",
    "import seaborn as sns\n",
    "import matplotlib.pyplot as plt"
   ]
  },
  {
   "cell_type": "markdown",
   "metadata": {},
   "source": [
    "<h2> Data Collection and Preprocessing </h2>"
   ]
  },
  {
   "cell_type": "code",
   "execution_count": 2,
   "metadata": {},
   "outputs": [],
   "source": [
    "dataset = pd.read_csv('creditcard.csv')"
   ]
  },
  {
   "cell_type": "code",
   "execution_count": 3,
   "metadata": {},
   "outputs": [
    {
     "data": {
      "text/plain": [
       "(284807, 31)"
      ]
     },
     "execution_count": 3,
     "metadata": {},
     "output_type": "execute_result"
    }
   ],
   "source": [
    "dataset.shape"
   ]
  },
  {
   "cell_type": "code",
   "execution_count": 4,
   "metadata": {},
   "outputs": [
    {
     "data": {
      "text/html": [
       "<div>\n",
       "<style scoped>\n",
       "    .dataframe tbody tr th:only-of-type {\n",
       "        vertical-align: middle;\n",
       "    }\n",
       "\n",
       "    .dataframe tbody tr th {\n",
       "        vertical-align: top;\n",
       "    }\n",
       "\n",
       "    .dataframe thead th {\n",
       "        text-align: right;\n",
       "    }\n",
       "</style>\n",
       "<table border=\"1\" class=\"dataframe\">\n",
       "  <thead>\n",
       "    <tr style=\"text-align: right;\">\n",
       "      <th></th>\n",
       "      <th>Time</th>\n",
       "      <th>V1</th>\n",
       "      <th>V2</th>\n",
       "      <th>V3</th>\n",
       "      <th>V4</th>\n",
       "      <th>V5</th>\n",
       "      <th>V6</th>\n",
       "      <th>V7</th>\n",
       "      <th>V8</th>\n",
       "      <th>V9</th>\n",
       "      <th>...</th>\n",
       "      <th>V21</th>\n",
       "      <th>V22</th>\n",
       "      <th>V23</th>\n",
       "      <th>V24</th>\n",
       "      <th>V25</th>\n",
       "      <th>V26</th>\n",
       "      <th>V27</th>\n",
       "      <th>V28</th>\n",
       "      <th>Amount</th>\n",
       "      <th>Class</th>\n",
       "    </tr>\n",
       "  </thead>\n",
       "  <tbody>\n",
       "    <tr>\n",
       "      <th>0</th>\n",
       "      <td>0.0</td>\n",
       "      <td>-1.359807</td>\n",
       "      <td>-0.072781</td>\n",
       "      <td>2.536347</td>\n",
       "      <td>1.378155</td>\n",
       "      <td>-0.338321</td>\n",
       "      <td>0.462388</td>\n",
       "      <td>0.239599</td>\n",
       "      <td>0.098698</td>\n",
       "      <td>0.363787</td>\n",
       "      <td>...</td>\n",
       "      <td>-0.018307</td>\n",
       "      <td>0.277838</td>\n",
       "      <td>-0.110474</td>\n",
       "      <td>0.066928</td>\n",
       "      <td>0.128539</td>\n",
       "      <td>-0.189115</td>\n",
       "      <td>0.133558</td>\n",
       "      <td>-0.021053</td>\n",
       "      <td>149.62</td>\n",
       "      <td>0</td>\n",
       "    </tr>\n",
       "    <tr>\n",
       "      <th>1</th>\n",
       "      <td>0.0</td>\n",
       "      <td>1.191857</td>\n",
       "      <td>0.266151</td>\n",
       "      <td>0.166480</td>\n",
       "      <td>0.448154</td>\n",
       "      <td>0.060018</td>\n",
       "      <td>-0.082361</td>\n",
       "      <td>-0.078803</td>\n",
       "      <td>0.085102</td>\n",
       "      <td>-0.255425</td>\n",
       "      <td>...</td>\n",
       "      <td>-0.225775</td>\n",
       "      <td>-0.638672</td>\n",
       "      <td>0.101288</td>\n",
       "      <td>-0.339846</td>\n",
       "      <td>0.167170</td>\n",
       "      <td>0.125895</td>\n",
       "      <td>-0.008983</td>\n",
       "      <td>0.014724</td>\n",
       "      <td>2.69</td>\n",
       "      <td>0</td>\n",
       "    </tr>\n",
       "    <tr>\n",
       "      <th>2</th>\n",
       "      <td>1.0</td>\n",
       "      <td>-1.358354</td>\n",
       "      <td>-1.340163</td>\n",
       "      <td>1.773209</td>\n",
       "      <td>0.379780</td>\n",
       "      <td>-0.503198</td>\n",
       "      <td>1.800499</td>\n",
       "      <td>0.791461</td>\n",
       "      <td>0.247676</td>\n",
       "      <td>-1.514654</td>\n",
       "      <td>...</td>\n",
       "      <td>0.247998</td>\n",
       "      <td>0.771679</td>\n",
       "      <td>0.909412</td>\n",
       "      <td>-0.689281</td>\n",
       "      <td>-0.327642</td>\n",
       "      <td>-0.139097</td>\n",
       "      <td>-0.055353</td>\n",
       "      <td>-0.059752</td>\n",
       "      <td>378.66</td>\n",
       "      <td>0</td>\n",
       "    </tr>\n",
       "    <tr>\n",
       "      <th>3</th>\n",
       "      <td>1.0</td>\n",
       "      <td>-0.966272</td>\n",
       "      <td>-0.185226</td>\n",
       "      <td>1.792993</td>\n",
       "      <td>-0.863291</td>\n",
       "      <td>-0.010309</td>\n",
       "      <td>1.247203</td>\n",
       "      <td>0.237609</td>\n",
       "      <td>0.377436</td>\n",
       "      <td>-1.387024</td>\n",
       "      <td>...</td>\n",
       "      <td>-0.108300</td>\n",
       "      <td>0.005274</td>\n",
       "      <td>-0.190321</td>\n",
       "      <td>-1.175575</td>\n",
       "      <td>0.647376</td>\n",
       "      <td>-0.221929</td>\n",
       "      <td>0.062723</td>\n",
       "      <td>0.061458</td>\n",
       "      <td>123.50</td>\n",
       "      <td>0</td>\n",
       "    </tr>\n",
       "    <tr>\n",
       "      <th>4</th>\n",
       "      <td>2.0</td>\n",
       "      <td>-1.158233</td>\n",
       "      <td>0.877737</td>\n",
       "      <td>1.548718</td>\n",
       "      <td>0.403034</td>\n",
       "      <td>-0.407193</td>\n",
       "      <td>0.095921</td>\n",
       "      <td>0.592941</td>\n",
       "      <td>-0.270533</td>\n",
       "      <td>0.817739</td>\n",
       "      <td>...</td>\n",
       "      <td>-0.009431</td>\n",
       "      <td>0.798278</td>\n",
       "      <td>-0.137458</td>\n",
       "      <td>0.141267</td>\n",
       "      <td>-0.206010</td>\n",
       "      <td>0.502292</td>\n",
       "      <td>0.219422</td>\n",
       "      <td>0.215153</td>\n",
       "      <td>69.99</td>\n",
       "      <td>0</td>\n",
       "    </tr>\n",
       "  </tbody>\n",
       "</table>\n",
       "<p>5 rows × 31 columns</p>\n",
       "</div>"
      ],
      "text/plain": [
       "   Time        V1        V2        V3        V4        V5        V6        V7  \\\n",
       "0   0.0 -1.359807 -0.072781  2.536347  1.378155 -0.338321  0.462388  0.239599   \n",
       "1   0.0  1.191857  0.266151  0.166480  0.448154  0.060018 -0.082361 -0.078803   \n",
       "2   1.0 -1.358354 -1.340163  1.773209  0.379780 -0.503198  1.800499  0.791461   \n",
       "3   1.0 -0.966272 -0.185226  1.792993 -0.863291 -0.010309  1.247203  0.237609   \n",
       "4   2.0 -1.158233  0.877737  1.548718  0.403034 -0.407193  0.095921  0.592941   \n",
       "\n",
       "         V8        V9  ...       V21       V22       V23       V24       V25  \\\n",
       "0  0.098698  0.363787  ... -0.018307  0.277838 -0.110474  0.066928  0.128539   \n",
       "1  0.085102 -0.255425  ... -0.225775 -0.638672  0.101288 -0.339846  0.167170   \n",
       "2  0.247676 -1.514654  ...  0.247998  0.771679  0.909412 -0.689281 -0.327642   \n",
       "3  0.377436 -1.387024  ... -0.108300  0.005274 -0.190321 -1.175575  0.647376   \n",
       "4 -0.270533  0.817739  ... -0.009431  0.798278 -0.137458  0.141267 -0.206010   \n",
       "\n",
       "        V26       V27       V28  Amount  Class  \n",
       "0 -0.189115  0.133558 -0.021053  149.62      0  \n",
       "1  0.125895 -0.008983  0.014724    2.69      0  \n",
       "2 -0.139097 -0.055353 -0.059752  378.66      0  \n",
       "3 -0.221929  0.062723  0.061458  123.50      0  \n",
       "4  0.502292  0.219422  0.215153   69.99      0  \n",
       "\n",
       "[5 rows x 31 columns]"
      ]
     },
     "execution_count": 4,
     "metadata": {},
     "output_type": "execute_result"
    }
   ],
   "source": [
    "dataset.head()"
   ]
  },
  {
   "cell_type": "code",
   "execution_count": 5,
   "metadata": {},
   "outputs": [
    {
     "data": {
      "text/plain": [
       "Class\n",
       "0    284315\n",
       "1       492\n",
       "Name: count, dtype: int64"
      ]
     },
     "execution_count": 5,
     "metadata": {},
     "output_type": "execute_result"
    }
   ],
   "source": [
    "dataset['Class'].value_counts()"
   ]
  },
  {
   "cell_type": "code",
   "execution_count": 6,
   "metadata": {},
   "outputs": [],
   "source": [
    "X = dataset.drop(columns='Class', axis = 1)\n",
    "y = dataset['Class']"
   ]
  },
  {
   "cell_type": "markdown",
   "metadata": {},
   "source": [
    "<h4> Standardistaion </h4>"
   ]
  },
  {
   "cell_type": "code",
   "execution_count": 4,
   "metadata": {},
   "outputs": [],
   "source": [
    "scalar = StandardScaler()\n",
    "scalar.fit(X)\n",
    "X = scalar.transform(X)"
   ]
  },
  {
   "cell_type": "markdown",
   "metadata": {},
   "source": [
    "<h4> Train Test Split </h4>"
   ]
  },
  {
   "cell_type": "code",
   "execution_count": 16,
   "metadata": {},
   "outputs": [],
   "source": [
    "Xtrain, Xtest, ytrain, ytest = train_test_split(X, y, test_size=0.2, stratify=y, random_state=42)"
   ]
  },
  {
   "cell_type": "markdown",
   "metadata": {},
   "source": [
    "<h4> Hyperparameter Tuning </h4>"
   ]
  },
  {
   "cell_type": "code",
   "execution_count": 17,
   "metadata": {},
   "outputs": [],
   "source": [
    "model = XGBClassifier(scale_pos_weight = (len(ytrain)-np.sum(ytrain))/np.sum(ytrain))"
   ]
  },
  {
   "cell_type": "code",
   "execution_count": 36,
   "metadata": {},
   "outputs": [
    {
     "name": "stdout",
     "output_type": "stream",
     "text": [
      "Fitting 10 folds for each of 10 candidates, totalling 100 fits\n",
      "[CV 1/10] END colsample_bytree=0.4, gamma=0.0, learning_rate=0.1, max_depth=5, min_child_weight=13;, score=0.954 total time=  27.1s\n",
      "[CV 8/10] END colsample_bytree=0.4, gamma=0.0, learning_rate=0.1, max_depth=5, min_child_weight=13;, score=0.987 total time=  27.4s\n",
      "[CV 6/10] END colsample_bytree=0.4, gamma=0.0, learning_rate=0.1, max_depth=5, min_child_weight=13;, score=0.973 total time=  27.4s\n",
      "[CV 7/10] END colsample_bytree=0.4, gamma=0.0, learning_rate=0.1, max_depth=5, min_child_weight=13;, score=0.973 total time=  27.4s\n",
      "[CV 5/10] END colsample_bytree=0.4, gamma=0.0, learning_rate=0.1, max_depth=5, min_child_weight=13;, score=0.992 total time=  27.5s\n",
      "[CV 4/10] END colsample_bytree=0.4, gamma=0.0, learning_rate=0.1, max_depth=5, min_child_weight=13;, score=0.975 total time=  27.5s\n",
      "[CV 9/10] END colsample_bytree=0.4, gamma=0.0, learning_rate=0.1, max_depth=5, min_child_weight=13;, score=0.992 total time=  27.6s\n",
      "[CV 3/10] END colsample_bytree=0.4, gamma=0.0, learning_rate=0.1, max_depth=5, min_child_weight=13;, score=0.999 total time=  27.6s\n",
      "[CV 2/10] END colsample_bytree=0.4, gamma=0.0, learning_rate=0.1, max_depth=5, min_child_weight=13;, score=0.980 total time=  27.8s\n",
      "[CV 10/10] END colsample_bytree=0.4, gamma=0.0, learning_rate=0.1, max_depth=5, min_child_weight=13;, score=0.999 total time=  27.8s\n",
      "[CV 6/10] END colsample_bytree=0.3, gamma=0.2, learning_rate=0.35, max_depth=7, min_child_weight=7;, score=0.961 total time=  22.3s\n",
      "[CV 1/10] END colsample_bytree=0.3, gamma=0.2, learning_rate=0.35, max_depth=7, min_child_weight=7;, score=0.959 total time=  22.8s\n",
      "[CV 4/10] END colsample_bytree=0.3, gamma=0.2, learning_rate=0.35, max_depth=7, min_child_weight=7;, score=0.969 total time=  22.7s\n",
      "[CV 2/10] END colsample_bytree=0.3, gamma=0.2, learning_rate=0.35, max_depth=7, min_child_weight=7;, score=0.987 total time=  23.0s\n",
      "[CV 7/10] END colsample_bytree=0.3, gamma=0.2, learning_rate=0.35, max_depth=7, min_child_weight=7;, score=0.977 total time=  23.0s\n",
      "[CV 3/10] END colsample_bytree=0.3, gamma=0.2, learning_rate=0.35, max_depth=7, min_child_weight=7;, score=1.000 total time=  23.4s\n",
      "[CV 8/10] END colsample_bytree=0.3, gamma=0.2, learning_rate=0.35, max_depth=7, min_child_weight=7;, score=0.989 total time=  23.4s\n",
      "[CV 9/10] END colsample_bytree=0.3, gamma=0.2, learning_rate=0.35, max_depth=7, min_child_weight=7;, score=0.985 total time=  23.2s\n",
      "[CV 10/10] END colsample_bytree=0.3, gamma=0.2, learning_rate=0.35, max_depth=7, min_child_weight=7;, score=0.998 total time=  23.2s\n",
      "[CV 5/10] END colsample_bytree=0.3, gamma=0.2, learning_rate=0.35, max_depth=7, min_child_weight=7;, score=0.992 total time=  23.6s\n",
      "[CV 4/10] END colsample_bytree=0.3, gamma=0.4, learning_rate=0.3, max_depth=13, min_child_weight=9;, score=0.969 total time=  24.8s\n",
      "[CV 2/10] END colsample_bytree=0.3, gamma=0.4, learning_rate=0.3, max_depth=13, min_child_weight=9;, score=0.983 total time=  25.4s\n",
      "[CV 6/10] END colsample_bytree=0.3, gamma=0.4, learning_rate=0.3, max_depth=13, min_child_weight=9;, score=0.959 total time=  24.7s\n",
      "[CV 1/10] END colsample_bytree=0.3, gamma=0.4, learning_rate=0.3, max_depth=13, min_child_weight=9;, score=0.953 total time=  26.0s\n",
      "[CV 7/10] END colsample_bytree=0.3, gamma=0.4, learning_rate=0.3, max_depth=13, min_child_weight=9;, score=0.973 total time=  24.9s\n",
      "[CV 3/10] END colsample_bytree=0.3, gamma=0.4, learning_rate=0.3, max_depth=13, min_child_weight=9;, score=0.999 total time=  26.1s\n",
      "[CV 9/10] END colsample_bytree=0.3, gamma=0.4, learning_rate=0.3, max_depth=13, min_child_weight=9;, score=0.989 total time=  25.5s\n",
      "[CV 5/10] END colsample_bytree=0.3, gamma=0.4, learning_rate=0.3, max_depth=13, min_child_weight=9;, score=0.988 total time=  26.1s\n",
      "[CV 10/10] END colsample_bytree=0.3, gamma=0.4, learning_rate=0.3, max_depth=13, min_child_weight=9;, score=0.992 total time=  25.8s\n",
      "[CV 8/10] END colsample_bytree=0.3, gamma=0.4, learning_rate=0.3, max_depth=13, min_child_weight=9;, score=0.986 total time=  26.0s\n",
      "[CV 4/10] END colsample_bytree=0.4, gamma=0.2, learning_rate=0.3, max_depth=9, min_child_weight=9;, score=0.970 total time=  29.4s\n",
      "[CV 2/10] END colsample_bytree=0.4, gamma=0.2, learning_rate=0.3, max_depth=9, min_child_weight=9;, score=0.964 total time=  30.0s\n",
      "[CV 1/10] END colsample_bytree=0.4, gamma=0.2, learning_rate=0.3, max_depth=9, min_child_weight=9;, score=0.962 total time=  30.7s\n",
      "[CV 6/10] END colsample_bytree=0.4, gamma=0.2, learning_rate=0.3, max_depth=9, min_child_weight=9;, score=0.978 total time=  29.9s\n",
      "[CV 3/10] END colsample_bytree=0.4, gamma=0.2, learning_rate=0.3, max_depth=9, min_child_weight=9;, score=1.000 total time=  30.9s\n",
      "[CV 7/10] END colsample_bytree=0.4, gamma=0.2, learning_rate=0.3, max_depth=9, min_child_weight=9;, score=0.981 total time=  30.7s\n",
      "[CV 8/10] END colsample_bytree=0.4, gamma=0.2, learning_rate=0.3, max_depth=9, min_child_weight=9;, score=0.992 total time=  30.8s\n",
      "[CV 5/10] END colsample_bytree=0.4, gamma=0.2, learning_rate=0.3, max_depth=9, min_child_weight=9;, score=0.982 total time=  31.6s\n",
      "[CV 9/10] END colsample_bytree=0.4, gamma=0.2, learning_rate=0.3, max_depth=9, min_child_weight=9;, score=0.989 total time=  30.8s\n",
      "[CV 10/10] END colsample_bytree=0.4, gamma=0.2, learning_rate=0.3, max_depth=9, min_child_weight=9;, score=0.999 total time=  31.1s\n",
      "[CV 1/10] END colsample_bytree=0.8, gamma=0.3, learning_rate=0.25, max_depth=10, min_child_weight=7;, score=0.958 total time=  58.5s\n",
      "[CV 2/10] END colsample_bytree=0.8, gamma=0.3, learning_rate=0.25, max_depth=10, min_child_weight=7;, score=0.972 total time=  60.0s\n",
      "[CV 4/10] END colsample_bytree=0.8, gamma=0.3, learning_rate=0.25, max_depth=10, min_child_weight=7;, score=0.975 total time= 1.0min\n",
      "[CV 6/10] END colsample_bytree=0.8, gamma=0.3, learning_rate=0.25, max_depth=10, min_child_weight=7;, score=0.967 total time=  59.1s\n",
      "[CV 3/10] END colsample_bytree=0.8, gamma=0.3, learning_rate=0.25, max_depth=10, min_child_weight=7;, score=1.000 total time= 1.0min\n",
      "[CV 7/10] END colsample_bytree=0.8, gamma=0.3, learning_rate=0.25, max_depth=10, min_child_weight=7;, score=0.978 total time= 1.0min\n",
      "[CV 9/10] END colsample_bytree=0.8, gamma=0.3, learning_rate=0.25, max_depth=10, min_child_weight=7;, score=0.993 total time=  59.8s\n",
      "[CV 10/10] END colsample_bytree=0.8, gamma=0.3, learning_rate=0.25, max_depth=10, min_child_weight=7;, score=0.997 total time=  59.9s\n",
      "[CV 8/10] END colsample_bytree=0.8, gamma=0.3, learning_rate=0.25, max_depth=10, min_child_weight=7;, score=0.995 total time= 1.0min\n",
      "[CV 5/10] END colsample_bytree=0.8, gamma=0.3, learning_rate=0.25, max_depth=10, min_child_weight=7;, score=0.994 total time= 1.0min\n",
      "[CV 1/10] END colsample_bytree=0.8, gamma=0.1, learning_rate=0.35, max_depth=6, min_child_weight=11;, score=0.977 total time=  47.3s\n",
      "[CV 2/10] END colsample_bytree=0.8, gamma=0.1, learning_rate=0.35, max_depth=6, min_child_weight=11;, score=0.976 total time=  47.3s\n",
      "[CV 6/10] END colsample_bytree=0.8, gamma=0.1, learning_rate=0.35, max_depth=6, min_child_weight=11;, score=0.951 total time=  45.9s\n",
      "[CV 4/10] END colsample_bytree=0.8, gamma=0.1, learning_rate=0.35, max_depth=6, min_child_weight=11;, score=0.976 total time=  47.0s\n",
      "[CV 3/10] END colsample_bytree=0.8, gamma=0.1, learning_rate=0.35, max_depth=6, min_child_weight=11;, score=1.000 total time=  47.7s\n",
      "[CV 7/10] END colsample_bytree=0.8, gamma=0.1, learning_rate=0.35, max_depth=6, min_child_weight=11;, score=0.978 total time=  47.0s\n",
      "[CV 9/10] END colsample_bytree=0.8, gamma=0.1, learning_rate=0.35, max_depth=6, min_child_weight=11;, score=0.983 total time=  47.1s\n",
      "[CV 5/10] END colsample_bytree=0.8, gamma=0.1, learning_rate=0.35, max_depth=6, min_child_weight=11;, score=0.982 total time=  48.4s\n",
      "[CV 8/10] END colsample_bytree=0.8, gamma=0.1, learning_rate=0.35, max_depth=6, min_child_weight=11;, score=0.987 total time=  48.4s\n",
      "[CV 10/10] END colsample_bytree=0.8, gamma=0.1, learning_rate=0.35, max_depth=6, min_child_weight=11;, score=0.990 total time=  48.7s\n",
      "[CV 1/10] END colsample_bytree=0.3, gamma=0.0, learning_rate=0.5, max_depth=12, min_child_weight=11;, score=0.970 total time=  19.3s\n",
      "[CV 2/10] END colsample_bytree=0.3, gamma=0.0, learning_rate=0.5, max_depth=12, min_child_weight=11;, score=0.975 total time=  19.2s\n",
      "[CV 4/10] END colsample_bytree=0.3, gamma=0.0, learning_rate=0.5, max_depth=12, min_child_weight=11;, score=0.973 total time=  19.1s\n",
      "[CV 3/10] END colsample_bytree=0.3, gamma=0.0, learning_rate=0.5, max_depth=12, min_child_weight=11;, score=0.999 total time=  19.8s\n",
      "[CV 6/10] END colsample_bytree=0.3, gamma=0.0, learning_rate=0.5, max_depth=12, min_child_weight=11;, score=0.955 total time=  19.2s\n",
      "[CV 5/10] END colsample_bytree=0.3, gamma=0.0, learning_rate=0.5, max_depth=12, min_child_weight=11;, score=0.982 total time=  20.3s\n",
      "[CV 7/10] END colsample_bytree=0.3, gamma=0.0, learning_rate=0.5, max_depth=12, min_child_weight=11;, score=0.978 total time=  19.3s\n",
      "[CV 9/10] END colsample_bytree=0.3, gamma=0.0, learning_rate=0.5, max_depth=12, min_child_weight=11;, score=0.994 total time=  18.9s\n",
      "[CV 8/10] END colsample_bytree=0.3, gamma=0.0, learning_rate=0.5, max_depth=12, min_child_weight=11;, score=0.983 total time=  20.3s\n",
      "[CV 10/10] END colsample_bytree=0.3, gamma=0.0, learning_rate=0.5, max_depth=12, min_child_weight=11;, score=0.996 total time=  19.6s\n",
      "[CV 1/10] END colsample_bytree=0.3, gamma=0.3, learning_rate=0.2, max_depth=14, min_child_weight=13;, score=0.961 total time=  29.9s\n",
      "[CV 2/10] END colsample_bytree=0.3, gamma=0.3, learning_rate=0.2, max_depth=14, min_child_weight=13;, score=0.984 total time=  29.6s\n",
      "[CV 4/10] END colsample_bytree=0.3, gamma=0.3, learning_rate=0.2, max_depth=14, min_child_weight=13;, score=0.981 total time=  29.3s\n",
      "[CV 6/10] END colsample_bytree=0.3, gamma=0.3, learning_rate=0.2, max_depth=14, min_child_weight=13;, score=0.955 total time=  28.9s\n",
      "[CV 3/10] END colsample_bytree=0.3, gamma=0.3, learning_rate=0.2, max_depth=14, min_child_weight=13;, score=0.999 total time=  30.7s\n",
      "[CV 5/10] END colsample_bytree=0.3, gamma=0.3, learning_rate=0.2, max_depth=14, min_child_weight=13;, score=0.990 total time=  29.6s\n",
      "[CV 7/10] END colsample_bytree=0.3, gamma=0.3, learning_rate=0.2, max_depth=14, min_child_weight=13;, score=0.978 total time=  30.1s\n",
      "[CV 8/10] END colsample_bytree=0.3, gamma=0.3, learning_rate=0.2, max_depth=14, min_child_weight=13;, score=0.993 total time=  30.2s\n",
      "[CV 9/10] END colsample_bytree=0.3, gamma=0.3, learning_rate=0.2, max_depth=14, min_child_weight=13;, score=0.981 total time=  29.8s\n",
      "[CV 10/10] END colsample_bytree=0.3, gamma=0.3, learning_rate=0.2, max_depth=14, min_child_weight=13;, score=0.998 total time=  30.7s\n",
      "[CV 1/10] END colsample_bytree=0.5, gamma=0.3, learning_rate=0.25, max_depth=5, min_child_weight=9;, score=0.959 total time=  31.6s\n",
      "[CV 2/10] END colsample_bytree=0.5, gamma=0.3, learning_rate=0.25, max_depth=5, min_child_weight=9;, score=0.982 total time=  31.6s\n",
      "[CV 3/10] END colsample_bytree=0.5, gamma=0.3, learning_rate=0.25, max_depth=5, min_child_weight=9;, score=0.999 total time=  31.8s\n",
      "[CV 6/10] END colsample_bytree=0.5, gamma=0.3, learning_rate=0.25, max_depth=5, min_child_weight=9;, score=0.971 total time=  31.1s\n",
      "[CV 4/10] END colsample_bytree=0.5, gamma=0.3, learning_rate=0.25, max_depth=5, min_child_weight=9;, score=0.973 total time=  31.4s\n",
      "[CV 5/10] END colsample_bytree=0.5, gamma=0.3, learning_rate=0.25, max_depth=5, min_child_weight=9;, score=0.990 total time=  31.8s\n",
      "[CV 7/10] END colsample_bytree=0.5, gamma=0.3, learning_rate=0.25, max_depth=5, min_child_weight=9;, score=0.982 total time=  31.6s\n",
      "[CV 8/10] END colsample_bytree=0.5, gamma=0.3, learning_rate=0.25, max_depth=5, min_child_weight=9;, score=0.975 total time=  31.7s\n",
      "[CV 9/10] END colsample_bytree=0.5, gamma=0.3, learning_rate=0.25, max_depth=5, min_child_weight=9;, score=0.992 total time=  31.6s\n",
      "[CV 10/10] END colsample_bytree=0.5, gamma=0.3, learning_rate=0.25, max_depth=5, min_child_weight=9;, score=0.999 total time=  31.5s\n",
      "[CV 1/10] END colsample_bytree=0.3, gamma=0.2, learning_rate=0.15, max_depth=4, min_child_weight=5;, score=0.949 total time=  17.2s\n",
      "[CV 2/10] END colsample_bytree=0.3, gamma=0.2, learning_rate=0.15, max_depth=4, min_child_weight=5;, score=0.984 total time=  17.2s\n",
      "[CV 3/10] END colsample_bytree=0.3, gamma=0.2, learning_rate=0.15, max_depth=4, min_child_weight=5;, score=0.999 total time=  16.7s\n",
      "[CV 4/10] END colsample_bytree=0.3, gamma=0.2, learning_rate=0.15, max_depth=4, min_child_weight=5;, score=0.970 total time=  17.0s\n",
      "[CV 5/10] END colsample_bytree=0.3, gamma=0.2, learning_rate=0.15, max_depth=4, min_child_weight=5;, score=0.991 total time=  16.7s\n",
      "[CV 6/10] END colsample_bytree=0.3, gamma=0.2, learning_rate=0.15, max_depth=4, min_child_weight=5;, score=0.965 total time=  16.9s\n",
      "[CV 7/10] END colsample_bytree=0.3, gamma=0.2, learning_rate=0.15, max_depth=4, min_child_weight=5;, score=0.976 total time=  16.5s\n",
      "[CV 8/10] END colsample_bytree=0.3, gamma=0.2, learning_rate=0.15, max_depth=4, min_child_weight=5;, score=0.979 total time=  16.3s\n",
      "[CV 9/10] END colsample_bytree=0.3, gamma=0.2, learning_rate=0.15, max_depth=4, min_child_weight=5;, score=0.988 total time=  16.4s\n",
      "[CV 10/10] END colsample_bytree=0.3, gamma=0.2, learning_rate=0.15, max_depth=4, min_child_weight=5;, score=0.998 total time=  16.0s\n"
     ]
    },
    {
     "data": {
      "text/html": [
       "<style>#sk-container-id-8 {color: black;}#sk-container-id-8 pre{padding: 0;}#sk-container-id-8 div.sk-toggleable {background-color: white;}#sk-container-id-8 label.sk-toggleable__label {cursor: pointer;display: block;width: 100%;margin-bottom: 0;padding: 0.3em;box-sizing: border-box;text-align: center;}#sk-container-id-8 label.sk-toggleable__label-arrow:before {content: \"▸\";float: left;margin-right: 0.25em;color: #696969;}#sk-container-id-8 label.sk-toggleable__label-arrow:hover:before {color: black;}#sk-container-id-8 div.sk-estimator:hover label.sk-toggleable__label-arrow:before {color: black;}#sk-container-id-8 div.sk-toggleable__content {max-height: 0;max-width: 0;overflow: hidden;text-align: left;background-color: #f0f8ff;}#sk-container-id-8 div.sk-toggleable__content pre {margin: 0.2em;color: black;border-radius: 0.25em;background-color: #f0f8ff;}#sk-container-id-8 input.sk-toggleable__control:checked~div.sk-toggleable__content {max-height: 200px;max-width: 100%;overflow: auto;}#sk-container-id-8 input.sk-toggleable__control:checked~label.sk-toggleable__label-arrow:before {content: \"▾\";}#sk-container-id-8 div.sk-estimator input.sk-toggleable__control:checked~label.sk-toggleable__label {background-color: #d4ebff;}#sk-container-id-8 div.sk-label input.sk-toggleable__control:checked~label.sk-toggleable__label {background-color: #d4ebff;}#sk-container-id-8 input.sk-hidden--visually {border: 0;clip: rect(1px 1px 1px 1px);clip: rect(1px, 1px, 1px, 1px);height: 1px;margin: -1px;overflow: hidden;padding: 0;position: absolute;width: 1px;}#sk-container-id-8 div.sk-estimator {font-family: monospace;background-color: #f0f8ff;border: 1px dotted black;border-radius: 0.25em;box-sizing: border-box;margin-bottom: 0.5em;}#sk-container-id-8 div.sk-estimator:hover {background-color: #d4ebff;}#sk-container-id-8 div.sk-parallel-item::after {content: \"\";width: 100%;border-bottom: 1px solid gray;flex-grow: 1;}#sk-container-id-8 div.sk-label:hover label.sk-toggleable__label {background-color: #d4ebff;}#sk-container-id-8 div.sk-serial::before {content: \"\";position: absolute;border-left: 1px solid gray;box-sizing: border-box;top: 0;bottom: 0;left: 50%;z-index: 0;}#sk-container-id-8 div.sk-serial {display: flex;flex-direction: column;align-items: center;background-color: white;padding-right: 0.2em;padding-left: 0.2em;position: relative;}#sk-container-id-8 div.sk-item {position: relative;z-index: 1;}#sk-container-id-8 div.sk-parallel {display: flex;align-items: stretch;justify-content: center;background-color: white;position: relative;}#sk-container-id-8 div.sk-item::before, #sk-container-id-8 div.sk-parallel-item::before {content: \"\";position: absolute;border-left: 1px solid gray;box-sizing: border-box;top: 0;bottom: 0;left: 50%;z-index: -1;}#sk-container-id-8 div.sk-parallel-item {display: flex;flex-direction: column;z-index: 1;position: relative;background-color: white;}#sk-container-id-8 div.sk-parallel-item:first-child::after {align-self: flex-end;width: 50%;}#sk-container-id-8 div.sk-parallel-item:last-child::after {align-self: flex-start;width: 50%;}#sk-container-id-8 div.sk-parallel-item:only-child::after {width: 0;}#sk-container-id-8 div.sk-dashed-wrapped {border: 1px dashed gray;margin: 0 0.4em 0.5em 0.4em;box-sizing: border-box;padding-bottom: 0.4em;background-color: white;}#sk-container-id-8 div.sk-label label {font-family: monospace;font-weight: bold;display: inline-block;line-height: 1.2em;}#sk-container-id-8 div.sk-label-container {text-align: center;}#sk-container-id-8 div.sk-container {/* jupyter's `normalize.less` sets `[hidden] { display: none; }` but bootstrap.min.css set `[hidden] { display: none !important; }` so we also need the `!important` here to be able to override the default hidden behavior on the sphinx rendered scikit-learn.org. See: https://github.com/scikit-learn/scikit-learn/issues/21755 */display: inline-block !important;position: relative;}#sk-container-id-8 div.sk-text-repr-fallback {display: none;}</style><div id=\"sk-container-id-8\" class=\"sk-top-container\"><div class=\"sk-text-repr-fallback\"><pre>RandomizedSearchCV(cv=10,\n",
       "                   estimator=XGBClassifier(base_score=None, booster=None,\n",
       "                                           callbacks=None,\n",
       "                                           colsample_bylevel=None,\n",
       "                                           colsample_bynode=None,\n",
       "                                           colsample_bytree=0.4,\n",
       "                                           early_stopping_rounds=None,\n",
       "                                           enable_categorical=False,\n",
       "                                           eval_metric=None, feature_types=None,\n",
       "                                           gamma=0.2, gpu_id=None,\n",
       "                                           grow_policy=None,\n",
       "                                           importance_type=None,\n",
       "                                           interaction_constraints=None,\n",
       "                                           learning_rate=...\n",
       "                                           n_estimators=100, n_jobs=None,\n",
       "                                           num_parallel_tree=None,\n",
       "                                           predictor=None, random_state=None, ...),\n",
       "                   n_jobs=-1,\n",
       "                   param_distributions={&#x27;colsample_bytree&#x27;: [0.3, 0.4, 0.5, 0.6,\n",
       "                                                             0.7, 0.8],\n",
       "                                        &#x27;gamma&#x27;: [0.0, 0.1, 0.2, 0.3, 0.4, 0.5],\n",
       "                                        &#x27;learning_rate&#x27;: [0.05, 0.1, 0.15, 0.2,\n",
       "                                                          0.25, 0.3, 0.35, 0.4,\n",
       "                                                          0.45, 0.5],\n",
       "                                        &#x27;max_depth&#x27;: [3, 4, 5, 6, 7, 8, 9, 10,\n",
       "                                                      11, 12, 13, 14, 15],\n",
       "                                        &#x27;min_child_weight&#x27;: [1, 3, 5, 7, 9, 11,\n",
       "                                                             13]},\n",
       "                   scoring=&#x27;roc_auc&#x27;, verbose=3)</pre><b>In a Jupyter environment, please rerun this cell to show the HTML representation or trust the notebook. <br />On GitHub, the HTML representation is unable to render, please try loading this page with nbviewer.org.</b></div><div class=\"sk-container\" hidden><div class=\"sk-item sk-dashed-wrapped\"><div class=\"sk-label-container\"><div class=\"sk-label sk-toggleable\"><input class=\"sk-toggleable__control sk-hidden--visually\" id=\"sk-estimator-id-14\" type=\"checkbox\" ><label for=\"sk-estimator-id-14\" class=\"sk-toggleable__label sk-toggleable__label-arrow\">RandomizedSearchCV</label><div class=\"sk-toggleable__content\"><pre>RandomizedSearchCV(cv=10,\n",
       "                   estimator=XGBClassifier(base_score=None, booster=None,\n",
       "                                           callbacks=None,\n",
       "                                           colsample_bylevel=None,\n",
       "                                           colsample_bynode=None,\n",
       "                                           colsample_bytree=0.4,\n",
       "                                           early_stopping_rounds=None,\n",
       "                                           enable_categorical=False,\n",
       "                                           eval_metric=None, feature_types=None,\n",
       "                                           gamma=0.2, gpu_id=None,\n",
       "                                           grow_policy=None,\n",
       "                                           importance_type=None,\n",
       "                                           interaction_constraints=None,\n",
       "                                           learning_rate=...\n",
       "                                           n_estimators=100, n_jobs=None,\n",
       "                                           num_parallel_tree=None,\n",
       "                                           predictor=None, random_state=None, ...),\n",
       "                   n_jobs=-1,\n",
       "                   param_distributions={&#x27;colsample_bytree&#x27;: [0.3, 0.4, 0.5, 0.6,\n",
       "                                                             0.7, 0.8],\n",
       "                                        &#x27;gamma&#x27;: [0.0, 0.1, 0.2, 0.3, 0.4, 0.5],\n",
       "                                        &#x27;learning_rate&#x27;: [0.05, 0.1, 0.15, 0.2,\n",
       "                                                          0.25, 0.3, 0.35, 0.4,\n",
       "                                                          0.45, 0.5],\n",
       "                                        &#x27;max_depth&#x27;: [3, 4, 5, 6, 7, 8, 9, 10,\n",
       "                                                      11, 12, 13, 14, 15],\n",
       "                                        &#x27;min_child_weight&#x27;: [1, 3, 5, 7, 9, 11,\n",
       "                                                             13]},\n",
       "                   scoring=&#x27;roc_auc&#x27;, verbose=3)</pre></div></div></div><div class=\"sk-parallel\"><div class=\"sk-parallel-item\"><div class=\"sk-item\"><div class=\"sk-label-container\"><div class=\"sk-label sk-toggleable\"><input class=\"sk-toggleable__control sk-hidden--visually\" id=\"sk-estimator-id-15\" type=\"checkbox\" ><label for=\"sk-estimator-id-15\" class=\"sk-toggleable__label sk-toggleable__label-arrow\">estimator: XGBClassifier</label><div class=\"sk-toggleable__content\"><pre>XGBClassifier(base_score=None, booster=None, callbacks=None,\n",
       "              colsample_bylevel=None, colsample_bynode=None,\n",
       "              colsample_bytree=0.4, early_stopping_rounds=None,\n",
       "              enable_categorical=False, eval_metric=None, feature_types=None,\n",
       "              gamma=0.2, gpu_id=None, grow_policy=None, importance_type=None,\n",
       "              interaction_constraints=None, learning_rate=0.15, max_bin=None,\n",
       "              max_cat_threshold=None, max_cat_to_onehot=None,\n",
       "              max_delta_step=None, max_depth=13, max_leaves=None,\n",
       "              min_child_weight=7, missing=nan, monotone_constraints=None,\n",
       "              n_estimators=100, n_jobs=None, num_parallel_tree=None,\n",
       "              predictor=None, random_state=None, ...)</pre></div></div></div><div class=\"sk-serial\"><div class=\"sk-item\"><div class=\"sk-estimator sk-toggleable\"><input class=\"sk-toggleable__control sk-hidden--visually\" id=\"sk-estimator-id-16\" type=\"checkbox\" ><label for=\"sk-estimator-id-16\" class=\"sk-toggleable__label sk-toggleable__label-arrow\">XGBClassifier</label><div class=\"sk-toggleable__content\"><pre>XGBClassifier(base_score=None, booster=None, callbacks=None,\n",
       "              colsample_bylevel=None, colsample_bynode=None,\n",
       "              colsample_bytree=0.4, early_stopping_rounds=None,\n",
       "              enable_categorical=False, eval_metric=None, feature_types=None,\n",
       "              gamma=0.2, gpu_id=None, grow_policy=None, importance_type=None,\n",
       "              interaction_constraints=None, learning_rate=0.15, max_bin=None,\n",
       "              max_cat_threshold=None, max_cat_to_onehot=None,\n",
       "              max_delta_step=None, max_depth=13, max_leaves=None,\n",
       "              min_child_weight=7, missing=nan, monotone_constraints=None,\n",
       "              n_estimators=100, n_jobs=None, num_parallel_tree=None,\n",
       "              predictor=None, random_state=None, ...)</pre></div></div></div></div></div></div></div></div></div></div>"
      ],
      "text/plain": [
       "RandomizedSearchCV(cv=10,\n",
       "                   estimator=XGBClassifier(base_score=None, booster=None,\n",
       "                                           callbacks=None,\n",
       "                                           colsample_bylevel=None,\n",
       "                                           colsample_bynode=None,\n",
       "                                           colsample_bytree=0.4,\n",
       "                                           early_stopping_rounds=None,\n",
       "                                           enable_categorical=False,\n",
       "                                           eval_metric=None, feature_types=None,\n",
       "                                           gamma=0.2, gpu_id=None,\n",
       "                                           grow_policy=None,\n",
       "                                           importance_type=None,\n",
       "                                           interaction_constraints=None,\n",
       "                                           learning_rate=...\n",
       "                                           n_estimators=100, n_jobs=None,\n",
       "                                           num_parallel_tree=None,\n",
       "                                           predictor=None, random_state=None, ...),\n",
       "                   n_jobs=-1,\n",
       "                   param_distributions={'colsample_bytree': [0.3, 0.4, 0.5, 0.6,\n",
       "                                                             0.7, 0.8],\n",
       "                                        'gamma': [0.0, 0.1, 0.2, 0.3, 0.4, 0.5],\n",
       "                                        'learning_rate': [0.05, 0.1, 0.15, 0.2,\n",
       "                                                          0.25, 0.3, 0.35, 0.4,\n",
       "                                                          0.45, 0.5],\n",
       "                                        'max_depth': [3, 4, 5, 6, 7, 8, 9, 10,\n",
       "                                                      11, 12, 13, 14, 15],\n",
       "                                        'min_child_weight': [1, 3, 5, 7, 9, 11,\n",
       "                                                             13]},\n",
       "                   scoring='roc_auc', verbose=3)"
      ]
     },
     "execution_count": 36,
     "metadata": {},
     "output_type": "execute_result"
    }
   ],
   "source": [
    "params = {\n",
    "    \"learning_rate\" : [0.05, 0.10, 0.15, 0.20, 0.25, 0.30, 0.35, 0.4, 0.45, 0.5],\n",
    "    \"max_depth\" : [3, 4, 5, 6, 7, 8, 9, 10, 11, 12, 13, 14, 15],\n",
    "    \"min_child_weight\" : [1, 3, 5, 7, 9, 11, 13],\n",
    "    \"gamma\" : [0.0, 0.1, 0.2, 0.3, 0.4, 0.5],\n",
    "    \"colsample_bytree\" : [0.3, 0.4, 0.5, 0.6, 0.7, 0.8]\n",
    "}\n",
    "\n",
    "randomSearch = RandomizedSearchCV(model, param_distributions=params, n_iter=10, scoring='roc_auc', n_jobs=-1, cv=10, verbose=3)\n",
    "\n",
    "randomSearch.fit(Xtrain, ytrain)"
   ]
  },
  {
   "cell_type": "code",
   "execution_count": 37,
   "metadata": {},
   "outputs": [
    {
     "data": {
      "text/plain": [
       "{'min_child_weight': 7,\n",
       " 'max_depth': 10,\n",
       " 'learning_rate': 0.25,\n",
       " 'gamma': 0.3,\n",
       " 'colsample_bytree': 0.8}"
      ]
     },
     "execution_count": 37,
     "metadata": {},
     "output_type": "execute_result"
    }
   ],
   "source": [
    "randomSearch.best_params_"
   ]
  },
  {
   "cell_type": "markdown",
   "metadata": {},
   "source": [
    "<h2> Model Training </h2>"
   ]
  },
  {
   "cell_type": "code",
   "execution_count": 38,
   "metadata": {},
   "outputs": [],
   "source": [
    "model = XGBClassifier(colsample_bytree=0.8, gamma=0.3, learning_rate=0.25, max_depth=10, min_child_weight=7, n_estimators=100, scale_pos_weight = (len(y)-np.sum(y))/np.sum(y))"
   ]
  },
  {
   "cell_type": "code",
   "execution_count": 39,
   "metadata": {},
   "outputs": [
    {
     "data": {
      "text/html": [
       "<style>#sk-container-id-9 {color: black;}#sk-container-id-9 pre{padding: 0;}#sk-container-id-9 div.sk-toggleable {background-color: white;}#sk-container-id-9 label.sk-toggleable__label {cursor: pointer;display: block;width: 100%;margin-bottom: 0;padding: 0.3em;box-sizing: border-box;text-align: center;}#sk-container-id-9 label.sk-toggleable__label-arrow:before {content: \"▸\";float: left;margin-right: 0.25em;color: #696969;}#sk-container-id-9 label.sk-toggleable__label-arrow:hover:before {color: black;}#sk-container-id-9 div.sk-estimator:hover label.sk-toggleable__label-arrow:before {color: black;}#sk-container-id-9 div.sk-toggleable__content {max-height: 0;max-width: 0;overflow: hidden;text-align: left;background-color: #f0f8ff;}#sk-container-id-9 div.sk-toggleable__content pre {margin: 0.2em;color: black;border-radius: 0.25em;background-color: #f0f8ff;}#sk-container-id-9 input.sk-toggleable__control:checked~div.sk-toggleable__content {max-height: 200px;max-width: 100%;overflow: auto;}#sk-container-id-9 input.sk-toggleable__control:checked~label.sk-toggleable__label-arrow:before {content: \"▾\";}#sk-container-id-9 div.sk-estimator input.sk-toggleable__control:checked~label.sk-toggleable__label {background-color: #d4ebff;}#sk-container-id-9 div.sk-label input.sk-toggleable__control:checked~label.sk-toggleable__label {background-color: #d4ebff;}#sk-container-id-9 input.sk-hidden--visually {border: 0;clip: rect(1px 1px 1px 1px);clip: rect(1px, 1px, 1px, 1px);height: 1px;margin: -1px;overflow: hidden;padding: 0;position: absolute;width: 1px;}#sk-container-id-9 div.sk-estimator {font-family: monospace;background-color: #f0f8ff;border: 1px dotted black;border-radius: 0.25em;box-sizing: border-box;margin-bottom: 0.5em;}#sk-container-id-9 div.sk-estimator:hover {background-color: #d4ebff;}#sk-container-id-9 div.sk-parallel-item::after {content: \"\";width: 100%;border-bottom: 1px solid gray;flex-grow: 1;}#sk-container-id-9 div.sk-label:hover label.sk-toggleable__label {background-color: #d4ebff;}#sk-container-id-9 div.sk-serial::before {content: \"\";position: absolute;border-left: 1px solid gray;box-sizing: border-box;top: 0;bottom: 0;left: 50%;z-index: 0;}#sk-container-id-9 div.sk-serial {display: flex;flex-direction: column;align-items: center;background-color: white;padding-right: 0.2em;padding-left: 0.2em;position: relative;}#sk-container-id-9 div.sk-item {position: relative;z-index: 1;}#sk-container-id-9 div.sk-parallel {display: flex;align-items: stretch;justify-content: center;background-color: white;position: relative;}#sk-container-id-9 div.sk-item::before, #sk-container-id-9 div.sk-parallel-item::before {content: \"\";position: absolute;border-left: 1px solid gray;box-sizing: border-box;top: 0;bottom: 0;left: 50%;z-index: -1;}#sk-container-id-9 div.sk-parallel-item {display: flex;flex-direction: column;z-index: 1;position: relative;background-color: white;}#sk-container-id-9 div.sk-parallel-item:first-child::after {align-self: flex-end;width: 50%;}#sk-container-id-9 div.sk-parallel-item:last-child::after {align-self: flex-start;width: 50%;}#sk-container-id-9 div.sk-parallel-item:only-child::after {width: 0;}#sk-container-id-9 div.sk-dashed-wrapped {border: 1px dashed gray;margin: 0 0.4em 0.5em 0.4em;box-sizing: border-box;padding-bottom: 0.4em;background-color: white;}#sk-container-id-9 div.sk-label label {font-family: monospace;font-weight: bold;display: inline-block;line-height: 1.2em;}#sk-container-id-9 div.sk-label-container {text-align: center;}#sk-container-id-9 div.sk-container {/* jupyter's `normalize.less` sets `[hidden] { display: none; }` but bootstrap.min.css set `[hidden] { display: none !important; }` so we also need the `!important` here to be able to override the default hidden behavior on the sphinx rendered scikit-learn.org. See: https://github.com/scikit-learn/scikit-learn/issues/21755 */display: inline-block !important;position: relative;}#sk-container-id-9 div.sk-text-repr-fallback {display: none;}</style><div id=\"sk-container-id-9\" class=\"sk-top-container\"><div class=\"sk-text-repr-fallback\"><pre>XGBClassifier(base_score=None, booster=None, callbacks=None,\n",
       "              colsample_bylevel=None, colsample_bynode=None,\n",
       "              colsample_bytree=0.8, early_stopping_rounds=None,\n",
       "              enable_categorical=False, eval_metric=None, feature_types=None,\n",
       "              gamma=0.3, gpu_id=None, grow_policy=None, importance_type=None,\n",
       "              interaction_constraints=None, learning_rate=0.25, max_bin=None,\n",
       "              max_cat_threshold=None, max_cat_to_onehot=None,\n",
       "              max_delta_step=None, max_depth=10, max_leaves=None,\n",
       "              min_child_weight=7, missing=nan, monotone_constraints=None,\n",
       "              n_estimators=100, n_jobs=None, num_parallel_tree=None,\n",
       "              predictor=None, random_state=None, ...)</pre><b>In a Jupyter environment, please rerun this cell to show the HTML representation or trust the notebook. <br />On GitHub, the HTML representation is unable to render, please try loading this page with nbviewer.org.</b></div><div class=\"sk-container\" hidden><div class=\"sk-item\"><div class=\"sk-estimator sk-toggleable\"><input class=\"sk-toggleable__control sk-hidden--visually\" id=\"sk-estimator-id-17\" type=\"checkbox\" checked><label for=\"sk-estimator-id-17\" class=\"sk-toggleable__label sk-toggleable__label-arrow\">XGBClassifier</label><div class=\"sk-toggleable__content\"><pre>XGBClassifier(base_score=None, booster=None, callbacks=None,\n",
       "              colsample_bylevel=None, colsample_bynode=None,\n",
       "              colsample_bytree=0.8, early_stopping_rounds=None,\n",
       "              enable_categorical=False, eval_metric=None, feature_types=None,\n",
       "              gamma=0.3, gpu_id=None, grow_policy=None, importance_type=None,\n",
       "              interaction_constraints=None, learning_rate=0.25, max_bin=None,\n",
       "              max_cat_threshold=None, max_cat_to_onehot=None,\n",
       "              max_delta_step=None, max_depth=10, max_leaves=None,\n",
       "              min_child_weight=7, missing=nan, monotone_constraints=None,\n",
       "              n_estimators=100, n_jobs=None, num_parallel_tree=None,\n",
       "              predictor=None, random_state=None, ...)</pre></div></div></div></div></div>"
      ],
      "text/plain": [
       "XGBClassifier(base_score=None, booster=None, callbacks=None,\n",
       "              colsample_bylevel=None, colsample_bynode=None,\n",
       "              colsample_bytree=0.8, early_stopping_rounds=None,\n",
       "              enable_categorical=False, eval_metric=None, feature_types=None,\n",
       "              gamma=0.3, gpu_id=None, grow_policy=None, importance_type=None,\n",
       "              interaction_constraints=None, learning_rate=0.25, max_bin=None,\n",
       "              max_cat_threshold=None, max_cat_to_onehot=None,\n",
       "              max_delta_step=None, max_depth=10, max_leaves=None,\n",
       "              min_child_weight=7, missing=nan, monotone_constraints=None,\n",
       "              n_estimators=100, n_jobs=None, num_parallel_tree=None,\n",
       "              predictor=None, random_state=None, ...)"
      ]
     },
     "execution_count": 39,
     "metadata": {},
     "output_type": "execute_result"
    }
   ],
   "source": [
    "model.fit(Xtrain, ytrain)"
   ]
  },
  {
   "cell_type": "code",
   "execution_count": 40,
   "metadata": {},
   "outputs": [
    {
     "name": "stdout",
     "output_type": "stream",
     "text": [
      "0.9899497487437185   1.0   0.9999912068973097   0.9949494949494949\n"
     ]
    }
   ],
   "source": [
    "p = model.predict(Xtrain)\n",
    "pre=metrics.precision_score(ytrain, p)\n",
    "re = metrics.recall_score(ytrain, p)\n",
    "roc = metrics.roc_auc_score(ytrain, p)\n",
    "f1 = metrics.f1_score(ytrain, p)\n",
    "print(pre, \" \", re, \" \", roc, \" \", f1)"
   ]
  },
  {
   "cell_type": "code",
   "execution_count": 41,
   "metadata": {},
   "outputs": [
    {
     "name": "stdout",
     "output_type": "stream",
     "text": [
      "0.8556701030927835   0.8469387755102041   0.923346287023532   0.8512820512820514\n"
     ]
    }
   ],
   "source": [
    "ptest = model.predict(Xtest)\n",
    "pret=metrics.precision_score(ytest, ptest)\n",
    "ret = metrics.recall_score(ytest, ptest)\n",
    "roct = metrics.roc_auc_score(ytest, ptest)\n",
    "f1t = metrics.f1_score(ytest, ptest)\n",
    "print(pret, \" \", ret, \" \", roct, \" \", f1t)"
   ]
  },
  {
   "cell_type": "markdown",
   "metadata": {},
   "source": [
    "<h2> Making Predictions <h2>"
   ]
  },
  {
   "cell_type": "code",
   "execution_count": 68,
   "metadata": {},
   "outputs": [],
   "source": [
    "yi = dataset[dataset['Class'] == 1]\n",
    "yi = yi.drop(columns=['Class'], axis=1)"
   ]
  },
  {
   "cell_type": "code",
   "execution_count": 69,
   "metadata": {},
   "outputs": [
    {
     "name": "stdout",
     "output_type": "stream",
     "text": [
      "            Time        V1        V2        V3        V4        V5        V6  \\\n",
      "541        406.0 -2.312227  1.951992 -1.609851  3.997906 -0.522188 -1.426545   \n",
      "623        472.0 -3.043541 -3.157307  1.088463  2.288644  1.359805 -1.064823   \n",
      "4920      4462.0 -2.303350  1.759247 -0.359745  2.330243 -0.821628 -0.075788   \n",
      "6108      6986.0 -4.397974  1.358367 -2.592844  2.679787 -1.128131 -1.706536   \n",
      "6329      7519.0  1.234235  3.019740 -4.304597  4.732795  3.624201 -1.357746   \n",
      "...          ...       ...       ...       ...       ...       ...       ...   \n",
      "279863  169142.0 -1.927883  1.125653 -4.518331  1.749293 -1.566487 -2.010494   \n",
      "280143  169347.0  1.378559  1.289381 -5.004247  1.411850  0.442581 -1.326536   \n",
      "280149  169351.0 -0.676143  1.126366 -2.213700  0.468308 -1.120541 -0.003346   \n",
      "281144  169966.0 -3.113832  0.585864 -5.399730  1.817092 -0.840618 -2.943548   \n",
      "281674  170348.0  1.991976  0.158476 -2.583441  0.408670  1.151147 -0.096695   \n",
      "\n",
      "              V7        V8        V9  ...       V20       V21       V22  \\\n",
      "541    -2.537387  1.391657 -2.770089  ...  0.126911  0.517232 -0.035049   \n",
      "623     0.325574 -0.067794 -0.270953  ...  2.102339  0.661696  0.435477   \n",
      "4920    0.562320 -0.399147 -0.238253  ... -0.430022 -0.294166 -0.932391   \n",
      "6108   -3.496197 -0.248778 -0.247768  ... -0.171608  0.573574  0.176968   \n",
      "6329    1.713445 -0.496358 -1.282858  ...  0.009061 -0.379068 -0.704181   \n",
      "...          ...       ...       ...  ...       ...       ...       ...   \n",
      "279863 -0.882850  0.697211 -2.064945  ...  1.252967  0.778584 -0.319189   \n",
      "280143 -1.413170  0.248525 -1.127396  ...  0.226138  0.370612  0.028234   \n",
      "280149 -2.234739  1.210158 -0.652250  ...  0.247968  0.751826  0.834108   \n",
      "281144 -2.208002  1.058733 -1.632333  ...  0.306271  0.583276 -0.269209   \n",
      "281674  0.223050 -0.068384  0.577829  ... -0.017652 -0.164350 -0.295135   \n",
      "\n",
      "             V23       V24       V25       V26       V27       V28  Amount  \n",
      "541    -0.465211  0.320198  0.044519  0.177840  0.261145 -0.143276    0.00  \n",
      "623     1.375966 -0.293803  0.279798 -0.145362 -0.252773  0.035764  529.00  \n",
      "4920    0.172726 -0.087330 -0.156114 -0.542628  0.039566 -0.153029  239.93  \n",
      "6108   -0.436207 -0.053502  0.252405 -0.657488 -0.827136  0.849573   59.00  \n",
      "6329   -0.656805 -1.632653  1.488901  0.566797 -0.010016  0.146793    1.00  \n",
      "...          ...       ...       ...       ...       ...       ...     ...  \n",
      "279863  0.639419 -0.294885  0.537503  0.788395  0.292680  0.147968  390.00  \n",
      "280143 -0.145640 -0.081049  0.521875  0.739467  0.389152  0.186637    0.76  \n",
      "280149  0.190944  0.032070 -0.739695  0.471111  0.385107  0.194361   77.89  \n",
      "281144 -0.456108 -0.183659 -0.328168  0.606116  0.884876 -0.253700  245.00  \n",
      "281674 -0.072173 -0.450261  0.313267 -0.289617  0.002988 -0.015309   42.53  \n",
      "\n",
      "[492 rows x 30 columns]\n"
     ]
    }
   ],
   "source": [
    "print(yi)"
   ]
  },
  {
   "cell_type": "code",
   "execution_count": 70,
   "metadata": {},
   "outputs": [],
   "source": [
    "yi = scalar.transform(yi)"
   ]
  },
  {
   "cell_type": "code",
   "execution_count": 71,
   "metadata": {},
   "outputs": [],
   "source": [
    "nyi = np.asarray(yi)"
   ]
  },
  {
   "cell_type": "code",
   "execution_count": 72,
   "metadata": {},
   "outputs": [
    {
     "name": "stdout",
     "output_type": "stream",
     "text": [
      "[[-1.98803351 -1.180495    1.18209005 ...  0.6469882  -0.43406056\n",
      "  -0.35322939]\n",
      " [-1.98664368 -1.55386353 -1.91200646 ... -0.62624682  0.10834929\n",
      "   1.7617582 ]\n",
      " [-1.90262257 -1.17596291  1.06536753 ...  0.09802496 -0.46360746\n",
      "   0.60603143]\n",
      " ...\n",
      " [ 1.56959742 -0.34520105  0.68210633 ...  0.95410585  0.58882664\n",
      "  -0.04181846]\n",
      " [ 1.58254804 -1.58975021  0.35478844 ...  2.19228408 -0.76859627\n",
      "   0.62630172]\n",
      " [ 1.59059217  1.01699283  0.09597005 ...  0.00740175 -0.04637872\n",
      "  -0.18319079]]\n"
     ]
    }
   ],
   "source": [
    "print(nyi)"
   ]
  },
  {
   "cell_type": "code",
   "execution_count": 83,
   "metadata": {},
   "outputs": [],
   "source": [
    "ny = nyi[101].reshape(1, -1)\n",
    "nx = X[6556].reshape(1, -1)"
   ]
  },
  {
   "cell_type": "code",
   "execution_count": 84,
   "metadata": {},
   "outputs": [
    {
     "data": {
      "text/plain": [
       "array([1])"
      ]
     },
     "execution_count": 84,
     "metadata": {},
     "output_type": "execute_result"
    }
   ],
   "source": [
    "model.predict(ny)"
   ]
  }
 ],
 "metadata": {
  "kernelspec": {
   "display_name": "Python 3",
   "language": "python",
   "name": "python3"
  },
  "language_info": {
   "codemirror_mode": {
    "name": "ipython",
    "version": 3
   },
   "file_extension": ".py",
   "mimetype": "text/x-python",
   "name": "python",
   "nbconvert_exporter": "python",
   "pygments_lexer": "ipython3",
   "version": "3.11.4"
  },
  "orig_nbformat": 4
 },
 "nbformat": 4,
 "nbformat_minor": 2
}
